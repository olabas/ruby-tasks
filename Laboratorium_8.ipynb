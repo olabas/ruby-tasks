{
 "metadata": {
  "language": "ruby",
  "name": "",
  "signature": "sha256:8169b21dfc98a2323cdad30520b89bdedf819fd18047069057c02601807bbcbf"
 },
 "nbformat": 3,
 "nbformat_minor": 0,
 "worksheets": [
  {
   "cells": [
    {
     "cell_type": "heading",
     "level": 1,
     "metadata": {},
     "source": [
      "Zapytania z\u0142o\u017cone"
     ]
    },
    {
     "cell_type": "markdown",
     "metadata": {},
     "source": [
      "Przed rozpocz\u0119ciem pracy konieczne jest skonfigurowanie bazy oraz za\u0142adowanie danych:\n",
      "```ruby\n",
      "$:.unshift \".\"\n",
      "require 'db_setup'\n",
      "require 'db_load'\n",
      "```"
     ]
    },
    {
     "cell_type": "code",
     "collapsed": false,
     "input": [
      "  $:.unshift \".\"\n",
      "require 'db_setup'\n",
      "require 'db_load'"
     ],
     "language": "python",
     "metadata": {},
     "outputs": [
      {
       "output_type": "stream",
       "stream": "stdout",
       "text": [
        "==  AddIndicesMigration: migrating ============================================\n"
       ]
      },
      {
       "output_type": "stream",
       "stream": "stdout",
       "text": [
        "==  AddIndicesMigration: migrated (0.0000s) ===================================\n"
       ]
      },
      {
       "output_type": "stream",
       "stream": "stdout",
       "text": [
        "\n"
       ]
      },
      {
       "metadata": {},
       "output_type": "pyout",
       "prompt_number": 20,
       "text": [
        "true"
       ]
      }
     ],
     "prompt_number": 20
    },
    {
     "cell_type": "markdown",
     "metadata": {},
     "source": [
      "W dalszych zadaniach b\u0119dzie wykonywa\u0107 polecenia korzystaj\u0105c z nast\u0119puj\u0105cych klas, zmapowanych na odpowiadaj\u0105ce im \n",
      "table w bazie danych:\n",
      "```ruby\n",
      "class Author < ActiveRecord::Base\n",
      "  # name      (string)\n",
      "  # surname   (string)\n",
      "  # born      (datetime) \n",
      "  # died      (datetime)\n",
      "  # image_url (string)\n",
      "  \n",
      "  has_many :books\n",
      "end\n",
      "\n",
      "class Book < ActiveRecord::Base\n",
      "  # title     (string)\n",
      "  # author    (Author)\n",
      "  # published (integer)\n",
      "\n",
      "  belongs_to :author\n",
      "end\n",
      "```"
     ]
    },
    {
     "cell_type": "markdown",
     "metadata": {},
     "source": [
      "ActiveRecord udost\u0119pnia interfejs pozwalaj\u0105cy wyszukiwa\u0107 dane w bazie r\u00f3wnie\u017c z wykorzystaniem zwi\u0105zk\u00f3w zdefiniowanych pomi\u0119dzy\n",
      "klasami. Do definiowania tych zwi\u0105zk\u00f3w s\u0142u\u017c\u0105 polecenia `has_many`, `belongs_to`, `has_one` oraz `has_and_belongs_to_many`.\n",
      "Przyk\u0142adowo je\u015bli chcemy dowiedzie\u0107 si\u0119 kto by\u0142 autorem pierwszej ksi\u0105\u017cki wykonujemy zapytanie:\n",
      "```ruby\n",
      "book = Book.first\n",
      "puts book.title\n",
      "puts book.author\n",
      "```"
     ]
    },
    {
     "cell_type": "code",
     "collapsed": false,
     "input": [
      "book = Book.first\n",
      "puts book.title\n",
      "puts book.author"
     ],
     "language": "python",
     "metadata": {},
     "outputs": [
      {
       "output_type": "stream",
       "stream": "stdout",
       "text": [
        "V\u00e9gj\u00e1t\u00e9k (reg\u00e9ny)\n"
       ]
      },
      {
       "output_type": "stream",
       "stream": "stdout",
       "text": [
        "#<Author:0x00000001b1db30>\n"
       ]
      }
     ],
     "prompt_number": 2
    },
    {
     "cell_type": "markdown",
     "metadata": {},
     "source": [
      "Niestety prezentowany wynik nie jest zbyt u\u017cyteczny. Poniewa\u017c jednak metoda `author` zwraca obiekt, mo\u017cemy na nim wywo\u0142ywa\u0107 \n",
      "metody - tak samo jak w przypadku autora za\u0142adowanego bezpo\u015brednio z wykorzystaniem metod zdefiniowanych dla klasy `Author`\n",
      "```ruby\n",
      "book = Book.first\n",
      "puts book.title\n",
      "puts \"#{book.author.name} #{book.author.surname}\"\n",
      "```"
     ]
    },
    {
     "cell_type": "code",
     "collapsed": false,
     "input": [
      "book = Book.first\n",
      "puts book.title\n",
      "puts \"#{book.author.name} #{book.author.surname}\""
     ],
     "language": "python",
     "metadata": {},
     "outputs": [
      {
       "output_type": "stream",
       "stream": "stdout",
       "text": [
        "V\u00e9gj\u00e1t\u00e9k (reg\u00e9ny)\n"
       ]
      },
      {
       "output_type": "stream",
       "stream": "stdout",
       "text": [
        "Orson Scott Card\n"
       ]
      }
     ],
     "prompt_number": 3
    },
    {
     "cell_type": "markdown",
     "metadata": {},
     "source": [
      "Co wi\u0119cej, je\u015bli mamy do czynienia ze zwi\u0105zkiem jeden-do-wiele b\u0105d\u017a wiele-do-wiele, mo\u017cemy wywy\u0142ywa\u0107 wszystkie dotychczas poznane \n",
      "metody na kolekcji powi\u0105zanych obiekt\u00f3w. Istotnie u\u0142atwia to wyszukiwanie potrzebnych danych:\n",
      "```ruby\n",
      "books = Book.where(\"title like 'A%'\")\n",
      "books.each do |book|\n",
      "  puts book.title\n",
      "end\n",
      "\n",
      "author = Author.where(surname: \"To\u0142stoj\").first\n",
      "books = author.books.where(\"title like 'A%'\")\n",
      "books.each do |book|\n",
      "  puts book.title\n",
      "end\n",
      "```"
     ]
    },
    {
     "cell_type": "code",
     "collapsed": false,
     "input": [
      "books = Book.where(\"title like 'A%'\")\n",
      "books.each do |book|\n",
      "  puts book.title\n",
      "end\n",
      "\n",
      "author = Author.where(surname: \"To\u0142stoj\").first\n",
      "books = author.books.where(\"title like 'A%'\")\n",
      "books.each do |book|\n",
      "  puts book.title\n",
      "end"
     ],
     "language": "python",
     "metadata": {},
     "outputs": [
      {
       "output_type": "stream",
       "stream": "stdout",
       "text": [
        "Anna Karenina\n"
       ]
      },
      {
       "output_type": "stream",
       "stream": "stdout",
       "text": [
        "Azazel (powie\u015b\u0107)\n"
       ]
      },
      {
       "output_type": "stream",
       "stream": "stdout",
       "text": [
        "Anna Karenina\n"
       ]
      },
      {
       "metadata": {},
       "output_type": "pyout",
       "prompt_number": 24,
       "text": [
        "[#<Book id: 33, title: \"Anna Karenina\", language: nil, author_id: 28, published: 1877, image_url: \"http://commons.wikimedia.org/wiki/Special:FilePath...\">]"
       ]
      }
     ],
     "prompt_number": 24
    },
    {
     "cell_type": "markdown",
     "metadata": {},
     "source": [
      "R\u00f3\u017cnica pomi\u0119dzy tymi zapytaniami polega na tym, \u017ce w pierwszym przypadku szukamy ksi\u0105\u017cki, kt\u00f3rych tytu\u0142 zaczyna si\u0119 na \"A\" \n",
      "w ca\u0142ym zbiorze ksi\u0105\u017cek, a w drugi przypadku w\u015br\u00f3d ksi\u0105\u017cek napisanych przez To\u0142stoja."
     ]
    },
    {
     "cell_type": "markdown",
     "metadata": {},
     "source": [
      "Aby umo\u017cliwi\u0107 formatowanie wynik\u00f3w zapytania, IRuby udost\u0119pnia metod\u0119 `IRuby.html`, kt\u00f3ra pozwala na wy\u015bwietlanie kodu\n",
      "HTML. Przyk\u0142adowo\n",
      "```ruby\n",
      "IRuby.html \"<h1>Test HTML-a</h1>\"\n",
      "```"
     ]
    },
    {
     "cell_type": "code",
     "collapsed": false,
     "input": [
      "IRuby.html \"<h1>Test HTML-a</h1>\""
     ],
     "language": "python",
     "metadata": {},
     "outputs": [
      {
       "html": [
        "<h1>Test HTML-a</h1>"
       ],
       "metadata": {},
       "output_type": "pyout",
       "prompt_number": 5,
       "text": [
        "\"<h1>Test HTML-a</h1>\""
       ]
      }
     ],
     "prompt_number": 5
    },
    {
     "cell_type": "markdown",
     "metadata": {},
     "source": [
      "Dzi\u0119ki temu b\u0119dziemy mogli formatowa\u0107 wyniki zapyta\u0144, a wszczeg\u00f3lno\u015bci wy\u015bwietla\u0107 obrazy przedstwiaj\u0105ce autor\u00f3w oraz ksi\u0105\u017cki. \n",
      "Nale\u017cy jednak wzi\u0105\u0107 pod uwag\u0119, \u017ce nie wszystkie ksi\u0105\u017cki oraz nie wszyscy autorzy posiadaj\u0105 odpowiadaj\u0105ce im obrazki.\n",
      "Aby wy\u015bwietli\u0107 imi\u0119, nazwisko oraz obraz pierwszego autora piszemy:\n",
      "```ruby\n",
      "author = Author.where(\"image_url is not null\").first\n",
      "IRuby.html \"<h1>#{author.name} #{author.surname}</h1><img src='#{author.image_url}'/>\"\n",
      "```"
     ]
    },
    {
     "cell_type": "code",
     "collapsed": false,
     "input": [
      "author = Author.where(\"image_url is not null\").first\n",
      "IRuby.html \"<h1>#{author.name} #{author.surname}</h1><img src='#{author.image_url}'/>\""
     ],
     "language": "python",
     "metadata": {},
     "outputs": [
      {
       "html": [
        "<h1>Orson Scott Card</h1><img src='http://commons.wikimedia.org/wiki/Special:FilePath/Orson_Scott_Card_at_BYU_Symposium_20080216_closeup.jpg?width=300'/>"
       ],
       "metadata": {},
       "output_type": "pyout",
       "prompt_number": 6,
       "text": [
        "\"<h1>Orson Scott Card</h1><img src='http://commons.wikimedia.org/wiki/Special:FilePath/Orson_Scott_Card_at_BYU_Symposium_20080216_closeup.jpg?width=300'/>\""
       ]
      }
     ],
     "prompt_number": 6
    },
    {
     "cell_type": "markdown",
     "metadata": {},
     "source": [
      "Mo\u017cemy r\u00f3wnie\u017c zdefniowa\u0107 funkcj\u0119, np. `display_author`, kt\u00f3rej zadaniem b\u0119dzie wy\u015bwietlenie autora w tej postaci. \n",
      "Jedyny problem polega na tym, \u017ce funkcja `IRuby.html` mo\u017ce by\u0107 wywo\u0142ywana tylko raz. Dlatego je\u015bli chcemy wy\u015bwietli\u0107 kilku autor\u00f3w,\n",
      "musimy po\u0142\u0105czy\u0107 odpowiadaj\u0105ce im kody HTML i wynik przekaza\u0107 do funkcji `html`\n",
      "```ruby\n",
      "def display_author(author)\n",
      "  \"<h1>#{author.name} #{author.surname}</h1><img src='#{author.image_url}'/>\"\n",
      "end\n",
      "\n",
      "author_1 = Author.where(\"image_url is not null\").first\n",
      "author_2 = Author.where(\"image_url is not null\").offset(1).first\n",
      "document = display_author(author_1)\n",
      "document += display_author(author_2)\n",
      "IRuby.html document\n",
      "```"
     ]
    },
    {
     "cell_type": "code",
     "collapsed": false,
     "input": [
      "def display_author(author)\n",
      "  \"<h1>#{author.name} #{author.surname}</h1><img src='#{author.image_url}'/>\"\n",
      "end\n",
      "\n",
      "author_1 = Author.where(\"image_url is not null\").first\n",
      "author_2 = Author.where(\"image_url is not null\").offset(1).first\n",
      "document = display_author(author_1)\n",
      "document += display_author(author_2)\n",
      "IRuby.html document"
     ],
     "language": "python",
     "metadata": {},
     "outputs": [
      {
       "html": [
        "<h1>Orson Scott Card</h1><img src='http://commons.wikimedia.org/wiki/Special:FilePath/Orson_Scott_Card_at_BYU_Symposium_20080216_closeup.jpg?width=300'/><h1>Andrzej Sapkowski</h1><img src='http://commons.wikimedia.org/wiki/Special:FilePath/Sapkowski.jpg?width=300'/>"
       ],
       "metadata": {},
       "output_type": "pyout",
       "prompt_number": 25,
       "text": [
        "\"<h1>Orson Scott Card</h1><img src='http://commons.wikimedia.org/wiki/Special:FilePath/Orson_Scott_Card_at_BYU_Symposium_20080216_closeup.jpg?width=300'/><h1>Andrzej Sapkowski</h1><img src='http://commons.wikimedia.org/wiki/Special:FilePath/Sapkowski.jpg?width=300'/>\""
       ]
      }
     ],
     "prompt_number": 25
    },
    {
     "cell_type": "raw",
     "metadata": {},
     "source": []
    },
    {
     "cell_type": "heading",
     "level": 2,
     "metadata": {},
     "source": [
      "Zadania"
     ]
    },
    {
     "cell_type": "heading",
     "level": 3,
     "metadata": {},
     "source": [
      "Zadanie 1"
     ]
    },
    {
     "cell_type": "markdown",
     "metadata": {},
     "source": [
      "Wy\u015bwietl wszystkich autor\u00f3w, kt\u00f3rzy urodzili si\u0119 przed rokiem 1900."
     ]
    },
    {
     "cell_type": "code",
     "collapsed": false,
     "input": [
      "def display_authors(authors)\n",
      "  html = \"\"\n",
      "  authors.each do |author|\n",
      "    html << \"<h1>#{author.name} #{author.surname}</h1><img src='#{author.image_url}'/>\"\n",
      "  end\n",
      "  html\n",
      "end\n",
      "\n",
      "authors = Author.where(\"image_url is not null\").where('born < ?', Date.parse(\"1900-01-01\"))\n",
      "\n",
      "document = display_authors(authors)\n",
      "IRuby.html document\n",
      "\n",
      "\n"
     ],
     "language": "python",
     "metadata": {},
     "outputs": [
      {
       "html": [
        "<h1>Jack London</h1><img src='http://commons.wikimedia.org/wiki/Special:FilePath/JackLondon02.jpeg?width=300'/><h1>Miko\u0142aj Kopernik</h1><img src='http://commons.wikimedia.org/wiki/Special:FilePath/Nikolaus_Kopernikus.jpg?width=300'/><h1>Maria Franciszka Koz\u0142owska</h1><img src='http://commons.wikimedia.org/wiki/Special:FilePath/Mateczk_Koz\u0142owska.JPG?width=300'/><h1>William Szekspir</h1><img src='http://commons.wikimedia.org/wiki/Special:FilePath/Shakespeare.jpg?width=300'/><h1>John Ronald Reuel Tolkien</h1><img src='http://commons.wikimedia.org/wiki/Special:FilePath/Tolkien_1916.jpg?width=300'/><h1>Aleksander Dumas (ojciec)</h1><img src='http://commons.wikimedia.org/wiki/Special:FilePath/Dumas_by_Nadar,_1855.jpg?width=300'/><h1>Tadeusz Do\u0142\u0119ga-Mostowicz</h1><img src='http://commons.wikimedia.org/wiki/Special:FilePath/Tadeusz_Dolega-Mostowicz.jpg?width=300'/><h1>Henryk Sienkiewicz</h1><img src='http://commons.wikimedia.org/wiki/Special:FilePath/Henryk_Sienkiewicz.PNG?width=300'/><h1>Vladimir Nabokov</h1><img src='http://commons.wikimedia.org/wiki/Special:FilePath/Monument_Nabokov_Montreux_23.12.2006.jpg?width=300'/><h1>Adolf Hitler</h1><img src='http://commons.wikimedia.org/wiki/Special:FilePath/Hitler_portrait_crop.jpg?width=300'/><h1>Eliza Orzeszkowa</h1><img src='http://commons.wikimedia.org/wiki/Special:FilePath/Eliza_Orzeszkowa.PNG?width=300'/><h1>Benedykt Chmielowski</h1><img src='http://commons.wikimedia.org/wiki/Special:FilePath/POL_COA_Na\u0142\u0119cz.svg?width=300'/><h1>Aldous Huxley</h1><img src='http://commons.wikimedia.org/wiki/Special:FilePath/Aldous_Huxley.JPG?width=300'/><h1>Honor\u00e9 de Balzac</h1><img src='http://commons.wikimedia.org/wiki/Special:FilePath/HBalzac.jpg?width=300'/><h1>Franz Kafka</h1><img src='http://commons.wikimedia.org/wiki/Special:FilePath/Kafka1906.jpg?width=300'/><h1>Howard Phillips Lovecraft</h1><img src='http://commons.wikimedia.org/wiki/Special:FilePath/Howard_Phillips_Lovecraft_in_1915.jpg?width=300'/><h1>Lew To\u0142stoj</h1><img src='http://commons.wikimedia.org/wiki/Special:FilePath/Ilya_Efimovich_Repin_(1844-1930)_-_Portrait_of_Leo_Tolstoy_(1887).jpg?width=300'/><h1>Ilja Ilf</h1><img src='http://commons.wikimedia.org/wiki/Special:FilePath/Ilya_Ilf.jpg?width=300'/><h1>Gabriela Zapolska</h1><img src='http://commons.wikimedia.org/wiki/Special:FilePath/Gabriela_Zapolska.PNG?width=300'/><h1>Clive Staples Lewis</h1><img src='http://commons.wikimedia.org/wiki/Special:FilePath/Statue_of_C.S._Lewis,_Belfast.jpg?width=300'/><h1>Iwan Turgieniew</h1><img src='http://commons.wikimedia.org/wiki/Special:FilePath/Turgenev_by_Repin.jpg?width=300'/><h1>Lucy Maud Montgomery</h1><img src='http://commons.wikimedia.org/wiki/Special:FilePath/Lucy_Maud_Montgomery.JPG?width=300'/><h1>Aleksander Majkowski</h1><img src='http://commons.wikimedia.org/wiki/Special:FilePath/POL_Polonia_Restituta_Oficerski_BAR.svg?width=300'/>"
       ],
       "metadata": {},
       "output_type": "pyout",
       "prompt_number": 32,
       "text": [
        "\"<h1>Jack London</h1><img src='http://commons.wikimedia.org/wiki/Special:FilePath/JackLondon02.jpeg?width=300'/><h1>Miko\u0142aj Kopernik</h1><img src='http://commons.wikimedia.org/wiki/Special:FilePath/Nikolaus_Kopernikus.jpg?width=300'/><h1>Maria Franciszka Koz\u0142owska</h1><img src='http://commons.wikimedia.org/wiki/Special:FilePath/Mateczk_Koz\u0142owska.JPG?width=300'/><h1>William Szekspir</h1><img src='http://commons.wikimedia.org/wiki/Special:FilePath/Shakespeare.jpg?width=300'/><h1>John Ronald Reuel Tolkien</h1><img src='http://commons.wikimedia.org/wiki/Special:FilePath/Tolkien_1916.jpg?width=300'/><h1>Aleksander Dumas (ojciec)</h1><img src='http://commons.wikimedia.org/wiki/Special:FilePath/Dumas_by_Nadar,_1855.jpg?width=300'/><h1>Tadeusz Do\u0142\u0119ga-Mostowicz</h1><img src='http://commons.wikimedia.org/wiki/Special:FilePath/Tadeusz_Dolega-Mostowicz.jpg?width=300'/><h1>Henryk Sienkiewicz</h1><img src='http://commons.wikimedia.org/wiki/Special:FilePath/Henryk_Sienkiewicz.PNG?width=300'/><h1>Vladimir Nabokov</h1><img src='http://commons.wikimedia.org/wiki/Special:FilePath/Monument_Nabokov_Montreux_23.12.2006.jpg?width=300'/><h1>Adolf Hitler</h1><img src='http://commons.wikimedia.org/wiki/Special:FilePath/Hitler_portrait_crop.jpg?width=300'/><h1>Eliza Orzeszkowa</h1><img src='http://commons.wikimedia.org/wiki/Special:FilePath/Eliza_Orzeszkowa.PNG?width=300'/><h1>Benedykt Chmielowski</h1><img src='http://commons.wikimedia.org/wiki/Special:FilePath/POL_COA_Na\u0142\u0119cz.svg?width=300'/><h1>Aldous Huxley</h1><img src='http://commons.wikimedia.org/wiki/Special:FilePath/Aldous_Huxley.JPG?width=300'/><h1>Honor\u00e9 de Balzac</h1><img src='http://commons.wikimedia.org/wiki/Special:FilePath/HBalzac.jpg?width=300'/><h1>Franz Kafka</h1><img src='http://commons.wikimedia.org/wiki/Special:FilePath/Kafka1906.jpg?width=300'/><h1>Howard Phillips Lovecraft</h1><img src='http://commons.wikimedia.org/wiki/Special:FilePath/Howard_Phillips_Lovecraft_in_1915.jpg?width=300'/><h1>Lew To\u0142stoj</h1><img src='http://commons.wikimedia.org/wiki/Special:FilePath/Ilya_Efimovich_Repin_(1844-1930)_-_Portrait_of_Leo_Tolstoy_(1887).jpg?width=300'/><h1>Ilja Ilf</h1><img src='http://commons.wikimedia.org/wiki/Special:FilePath/Ilya_Ilf.jpg?width=300'/><h1>Gabriela Zapolska</h1><img src='http://commons.wikimedia.org/wiki/Special:FilePath/Gabriela_Zapolska.PNG?width=300'/><h1>Clive Staples Lewis</h1><img src='http://commons.wikimedia.org/wiki/Special:FilePath/Statue_of_C.S._Lewis,_Belfast.jpg?width=300'/><h1>Iwan Turgieniew</h1><img src='http://commons.wikimedia.org/wiki/Special:FilePath/Turgenev_by_Repin.jpg?width=300'/><h1>Lucy Maud Montgomery</h1><img src='http://commons.wikimedia.org/wiki/Special:FilePath/Lucy_Maud_Montgomery.JPG?width=300'/><h1>Aleksander Majkowski</h1><img src='http://commons.wikimedia.org/wiki/Special:FilePath/POL_Polonia_Restituta_Oficerski_BAR.svg?width=300'/>\""
       ]
      }
     ],
     "prompt_number": 32
    },
    {
     "cell_type": "heading",
     "level": 3,
     "metadata": {},
     "source": [
      "Zadanie 2"
     ]
    },
    {
     "cell_type": "markdown",
     "metadata": {},
     "source": [
      "Zmodyfikuj funkcj\u0119 wy\u015bwietlaj\u0105c\u0105 autor\u00f3w tak aby obejmowa\u0142a ich dat\u0119 urodzin i \u015bmierci w formacie `dzie\u0144.miesi\u0105c.rok`. Nast\u0119pnie wy\u015bwietl wszystkich autor\u00f3w,\n",
      "kt\u00f3rzy zmarli w XX wieku."
     ]
    },
    {
     "cell_type": "code",
     "collapsed": false,
     "input": [
      "def display_authors(authors)\n",
      "  html = \"\"\n",
      "  authors.each do |author|\n",
      "    html << \"<h1>#{author.name} #{author.surname} #{author.born.strftime(\"%d.%m.%Y\")} #{author.died.strftime(\"%d.%m.%Y\")} </h1><img src='#{author.image_url}'/>\"\n",
      "  end\n",
      "  html\n",
      "end\n",
      "\n",
      "authors = Author.where(\"image_url is not null\").where('born < ?', Date.parse(\"1900-01-01\")).where(died: Date.parse(\"1901-01-01\")..Date.parse(\"2000-12-31\"))\n",
      "\n",
      "document = display_authors(authors)\n",
      "IRuby.html document\n",
      "\n"
     ],
     "language": "python",
     "metadata": {},
     "outputs": [
      {
       "html": [
        "<h1>Jack London 12.01.1876 22.11.1916 </h1><img src='http://commons.wikimedia.org/wiki/Special:FilePath/JackLondon02.jpeg?width=300'/><h1>John Ronald Reuel Tolkien 03.01.1892 02.09.1973 </h1><img src='http://commons.wikimedia.org/wiki/Special:FilePath/Tolkien_1916.jpg?width=300'/><h1>Tadeusz Do\u0142\u0119ga-Mostowicz 10.08.1898 20.09.1939 </h1><img src='http://commons.wikimedia.org/wiki/Special:FilePath/Tadeusz_Dolega-Mostowicz.jpg?width=300'/><h1>Henryk Sienkiewicz 05.05.1846 15.11.1916 </h1><img src='http://commons.wikimedia.org/wiki/Special:FilePath/Henryk_Sienkiewicz.PNG?width=300'/><h1>Vladimir Nabokov 22.04.1899 02.07.1977 </h1><img src='http://commons.wikimedia.org/wiki/Special:FilePath/Monument_Nabokov_Montreux_23.12.2006.jpg?width=300'/><h1>Adolf Hitler 20.04.1889 30.04.1945 </h1><img src='http://commons.wikimedia.org/wiki/Special:FilePath/Hitler_portrait_crop.jpg?width=300'/><h1>Eliza Orzeszkowa 06.06.1841 18.05.1910 </h1><img src='http://commons.wikimedia.org/wiki/Special:FilePath/Eliza_Orzeszkowa.PNG?width=300'/><h1>Aldous Huxley 26.07.1894 22.11.1963 </h1><img src='http://commons.wikimedia.org/wiki/Special:FilePath/Aldous_Huxley.JPG?width=300'/><h1>Franz Kafka 03.07.1883 03.06.1924 </h1><img src='http://commons.wikimedia.org/wiki/Special:FilePath/Kafka1906.jpg?width=300'/><h1>Howard Phillips Lovecraft 20.08.1890 15.03.1937 </h1><img src='http://commons.wikimedia.org/wiki/Special:FilePath/Howard_Phillips_Lovecraft_in_1915.jpg?width=300'/><h1>Lew To\u0142stoj 09.09.1828 20.11.1910 </h1><img src='http://commons.wikimedia.org/wiki/Special:FilePath/Ilya_Efimovich_Repin_(1844-1930)_-_Portrait_of_Leo_Tolstoy_(1887).jpg?width=300'/><h1>Ilja Ilf 15.10.1897 13.04.1937 </h1><img src='http://commons.wikimedia.org/wiki/Special:FilePath/Ilya_Ilf.jpg?width=300'/><h1>Gabriela Zapolska 30.03.1857 17.12.1921 </h1><img src='http://commons.wikimedia.org/wiki/Special:FilePath/Gabriela_Zapolska.PNG?width=300'/><h1>Clive Staples Lewis 29.11.1898 22.11.1963 </h1><img src='http://commons.wikimedia.org/wiki/Special:FilePath/Statue_of_C.S._Lewis,_Belfast.jpg?width=300'/><h1>Lucy Maud Montgomery 30.11.1874 24.04.1942 </h1><img src='http://commons.wikimedia.org/wiki/Special:FilePath/Lucy_Maud_Montgomery.JPG?width=300'/><h1>Aleksander Majkowski 17.07.1876 10.02.1938 </h1><img src='http://commons.wikimedia.org/wiki/Special:FilePath/POL_Polonia_Restituta_Oficerski_BAR.svg?width=300'/>"
       ],
       "metadata": {},
       "output_type": "pyout",
       "prompt_number": 54,
       "text": [
        "\"<h1>Jack London 12.01.1876 22.11.1916 </h1><img src='http://commons.wikimedia.org/wiki/Special:FilePath/JackLondon02.jpeg?width=300'/><h1>John Ronald Reuel Tolkien 03.01.1892 02.09.1973 </h1><img src='http://commons.wikimedia.org/wiki/Special:FilePath/Tolkien_1916.jpg?width=300'/><h1>Tadeusz Do\u0142\u0119ga-Mostowicz 10.08.1898 20.09.1939 </h1><img src='http://commons.wikimedia.org/wiki/Special:FilePath/Tadeusz_Dolega-Mostowicz.jpg?width=300'/><h1>Henryk Sienkiewicz 05.05.1846 15.11.1916 </h1><img src='http://commons.wikimedia.org/wiki/Special:FilePath/Henryk_Sienkiewicz.PNG?width=300'/><h1>Vladimir Nabokov 22.04.1899 02.07.1977 </h1><img src='http://commons.wikimedia.org/wiki/Special:FilePath/Monument_Nabokov_Montreux_23.12.2006.jpg?width=300'/><h1>Adolf Hitler 20.04.1889 30.04.1945 </h1><img src='http://commons.wikimedia.org/wiki/Special:FilePath/Hitler_portrait_crop.jpg?width=300'/><h1>Eliza Orzeszkowa 06.06.1841 18.05.1910 </h1><img src='http://commons.wikimedia.org/wiki/Special:FilePath/Eliza_Orzeszkowa.PNG?width=300'/><h1>Aldous Huxley 26.07.1894 22.11.1963 </h1><img src='http://commons.wikimedia.org/wiki/Special:FilePath/Aldous_Huxley.JPG?width=300'/><h1>Franz Kafka 03.07.1883 03.06.1924 </h1><img src='http://commons.wikimedia.org/wiki/Special:FilePath/Kafka1906.jpg?width=300'/><h1>Howard Phillips Lovecraft 20.08.1890 15.03.1937 </h1><img src='http://commons.wikimedia.org/wiki/Special:FilePath/Howard_Phillips_Lovecraft_in_1915.jpg?width=300'/><h1>Lew To\u0142stoj 09.09.1828 20.11.1910 </h1><img src='http://commons.wikimedia.org/wiki/Special:FilePath/Ilya_Efimovich_Repin_(1844-1930)_-_Portrait_of_Leo_Tolstoy_(1887).jpg?width=300'/><h1>Ilja Ilf 15.10.1897 13.04.1937 </h1><img src='http://commons.wikimedia.org/wiki/Special:FilePath/Ilya_Ilf.jpg?width=300'/><h1>Gabriela Zapolska 30.03.1857 17.12.1921 </h1><img src='http://commons.wikimedia.org/wiki/Special:FilePath/Gabriela_Zapolska.PNG?width=300'/><h1>Clive Staples Lewis 29.11.1898 22.11.1963 </h1><img src='http://commons.wikimedia.org/wiki/Special:FilePath/Statue_of_C.S._Lewis,_Belfast.jpg?width=300'/><h1>Lucy Maud Montgomery 30.11.1874 24.04.1942 </h1><img src='http://commons.wikimedia.org/wiki/Special:FilePath/Lucy_Maud_Montgomery.JPG?width=300'/><h1>Aleksander Majkowski 17.07.1876 10.02.1938 </h1><img src='http://commons.wikimedia.org/wiki/Special:FilePath/POL_Polonia_Restituta_Oficerski_BAR.svg?width=300'/>\""
       ]
      }
     ],
     "prompt_number": 54
    },
    {
     "cell_type": "heading",
     "level": 3,
     "metadata": {},
     "source": [
      "Zadanie 3"
     ]
    },
    {
     "cell_type": "markdown",
     "metadata": {},
     "source": [
      "Wy\u015bwietl 5 najm\u0142odszych autor\u00f3w, kt\u00f3rzy posiadaj\u0105 przypisane zdj\u0119cie."
     ]
    },
    {
     "cell_type": "code",
     "collapsed": false,
     "input": [
      "def display_authors(authors)\n",
      "  html = \"\"\n",
      "  authors.order('born DESC').limit(5).each do |author|\n",
      "    html << \"<h1>#{author.name} #{author.surname} #{author.born} #{author.died} </h1><img src='#{author.image_url}'/>\"\n",
      "  end\n",
      "  html\n",
      "end\n",
      "\n",
      "authors = Author.where(\"image_url is not null\")\n",
      "\n",
      "document = display_authors(authors)\n",
      "IRuby.html document\n"
     ],
     "language": "python",
     "metadata": {},
     "outputs": [
      {
       "html": [
        "<h1>Andrzej Pilipiuk 1974-03-20  </h1><img src='http://commons.wikimedia.org/wiki/Special:FilePath/Andrzej_Pilipiuk-Polcon2006.jpg?width=300'/><h1>J. K. Rowling 1965-07-31  </h1><img src='http://commons.wikimedia.org/wiki/Special:FilePath/J._K._Rowling_2010.jpg?width=300'/><h1>Rafa\u0142 A. Ziemkiewicz 1964-09-13  </h1><img src='http://commons.wikimedia.org/wiki/Special:FilePath/Rafa\u0142_Ziemkiewicz.jpg?width=300'/><h1>Boris Akunin 1956-05-20  </h1><img src='http://commons.wikimedia.org/wiki/Special:FilePath/Boris_Akunin_2012.jpg?width=300'/><h1>Orson Scott Card 1951-08-24  </h1><img src='http://commons.wikimedia.org/wiki/Special:FilePath/Orson_Scott_Card_at_BYU_Symposium_20080216_closeup.jpg?width=300'/>"
       ],
       "metadata": {},
       "output_type": "pyout",
       "prompt_number": 21,
       "text": [
        "\"<h1>Andrzej Pilipiuk 1974-03-20  </h1><img src='http://commons.wikimedia.org/wiki/Special:FilePath/Andrzej_Pilipiuk-Polcon2006.jpg?width=300'/><h1>J. K. Rowling 1965-07-31  </h1><img src='http://commons.wikimedia.org/wiki/Special:FilePath/J._K._Rowling_2010.jpg?width=300'/><h1>Rafa\u0142 A. Ziemkiewicz 1964-09-13  </h1><img src='http://commons.wikimedia.org/wiki/Special:FilePath/Rafa\u0142_Ziemkiewicz.jpg?width=300'/><h1>Boris Akunin 1956-05-20  </h1><img src='http://commons.wikimedia.org/wiki/Special:FilePath/Boris_Akunin_2012.jpg?width=300'/><h1>Orson Scott Card 1951-08-24  </h1><img src='http://commons.wikimedia.org/wiki/Special:FilePath/Orson_Scott_Card_at_BYU_Symposium_20080216_closeup.jpg?width=300'/>\""
       ]
      }
     ],
     "prompt_number": 21
    },
    {
     "cell_type": "heading",
     "level": 3,
     "metadata": {},
     "source": [
      "Zadanie 4"
     ]
    },
    {
     "cell_type": "markdown",
     "metadata": {},
     "source": [
      "Zdefiniuj funkcj\u0119 `display_book`, kt\u00f3ra b\u0119dzie zwraca\u0142a fragment kodu HTML obejmuj\u0105cy tytu\u0142 ksi\u0105\u017cki, rok jej wydania oraz\n",
      "przypisany obrazek.\n",
      "Wy\u015bwietl najwcze\u015bniej wydan\u0105 ksi\u0105\u017ck\u0119."
     ]
    },
    {
     "cell_type": "code",
     "collapsed": false,
     "input": [
      "def display_book(books)\n",
      "  html = \"\"\n",
      "  books.order(:published).limit(1).each do |book|\n",
      "    html << \"<h1>#{book.title} #{book.published} </h1><img src='#{book.author.image_url}'/>\"\n",
      "  end\n",
      "  html\n",
      "end\n",
      "\n",
      "books = Book.where(\"image_url is not null and published is not null and published != 0\")\n",
      "\n",
      "document = display_book(books)\n",
      "IRuby.html document"
     ],
     "language": "python",
     "metadata": {},
     "outputs": [
      {
       "html": [
        "<h1>Psa\u0142terz Dawid\u00f3w 1579 </h1><img src='http://commons.wikimedia.org/wiki/Special:FilePath/Jan_Kochanowski.png?width=300'/>"
       ],
       "metadata": {},
       "output_type": "pyout",
       "prompt_number": 59,
       "text": [
        "\"<h1>Psa\u0142terz Dawid\u00f3w 1579 </h1><img src='http://commons.wikimedia.org/wiki/Special:FilePath/Jan_Kochanowski.png?width=300'/>\""
       ]
      }
     ],
     "prompt_number": 59
    },
    {
     "cell_type": "heading",
     "level": 3,
     "metadata": {},
     "source": [
      "Zadanie 5"
     ]
    },
    {
     "cell_type": "markdown",
     "metadata": {},
     "source": [
      "Wy\u015bwietl wszystkie ksi\u0105\u017cki, kt\u00f3re nie maj\u0105 przypisanego roku wydania."
     ]
    },
    {
     "cell_type": "code",
     "collapsed": false,
     "input": [
      "def display_book(books)\n",
      "  html = \"\"\n",
      "  books.each do |book|\n",
      "    html << \"<h1>#{book.title} #{book.published} </h1><img src='#{book.author.image_url}'/>\" if book.published.nil?\n",
      "  end\n",
      "  html\n",
      "end\n",
      "\n",
      "books = Book.where(\"image_url is not null\")\n",
      "document = display_book(books)\n",
      "IRuby.html document"
     ],
     "language": "python",
     "metadata": {},
     "outputs": [
      {
       "html": [
        "<h1>Hamlet  </h1><img src='http://commons.wikimedia.org/wiki/Special:FilePath/Shakespeare.jpg?width=300'/>"
       ],
       "metadata": {},
       "output_type": "pyout",
       "prompt_number": 112,
       "text": [
        "\"<h1>Hamlet  </h1><img src='http://commons.wikimedia.org/wiki/Special:FilePath/Shakespeare.jpg?width=300'/>\""
       ]
      }
     ],
     "prompt_number": 112
    },
    {
     "cell_type": "heading",
     "level": 3,
     "metadata": {},
     "source": [
      "Zadanie 6"
     ]
    },
    {
     "cell_type": "markdown",
     "metadata": {},
     "source": [
      "Zmodyfikuj funkcj\u0119 `display_author` tak, aby wy\u015bwietla\u0142a r\u00f3wnie\u017c wszystkie ksi\u0105\u017cki napisane przez autora. U\u017cyj znacznika `<ul>`.\n",
      "Korzystaj\u0105c z tej funkcji wy\u015bwietl opis Stanis\u0142awa Lema."
     ]
    },
    {
     "cell_type": "code",
     "collapsed": false,
     "input": [
      "def display_author(author)\n",
      "  html = \"\"\n",
      "    html << \"<h1>#{author.name} #{author.surname} #{author.born} #{author.died} </h1><img src='#{author.image_url}'/>\"\n",
      "    author.books.each do |book|\n",
      "      html << \"<li> #{book.title}</li>\"\n",
      "    end\n",
      "  html\n",
      "end\n",
      "\n",
      "author = Author.where(\"surname like 'Lem'\").first\n",
      "document = display_author(author)\n",
      "IRuby.html document\n"
     ],
     "language": "python",
     "metadata": {},
     "outputs": [
      {
       "html": [
        "<h1>Stanis\u0142aw Lem 1921-09-12 2006-03-27 </h1><img src='http://commons.wikimedia.org/wiki/Special:FilePath/Stanislaw_Lem_2.jpg?width=300'/><li> Bajki robot\u00f3w</li><li> Solaris (powie\u015b\u0107)</li><li> Bezsenno\u015b\u0107 (zbi\u00f3r opowiada\u0144)</li><li> G\u0142os Pana</li><li> Inwazja z Aldebarana (zbi\u00f3r opowiada\u0144)</li><li> Katar (powie\u015b\u0107)</li><li> Ksi\u0119ga robot\u00f3w</li><li> Maska (zbi\u00f3r dzie\u0142)</li><li> Niezwyci\u0119\u017cony i inne opowiadania</li><li> Noc ksi\u0119\u017cycowa</li><li> Pami\u0119tnik znaleziony w wannie</li><li> Polowanie (zbi\u00f3r opowiada\u0144)</li><li> Powt\u00f3rka (zbi\u00f3r dzie\u0142)</li><li> Po\u017cytek ze smoka</li><li> Rasa drapie\u017cc\u00f3w. Teksty ostatnie</li><li> Sezam i inne opowiadania</li><li> Summa technologiae</li><li> Wizja lokalna (powie\u015b\u0107)</li>"
       ],
       "metadata": {},
       "output_type": "pyout",
       "prompt_number": 140,
       "text": [
        "\"<h1>Stanis\u0142aw Lem 1921-09-12 2006-03-27 </h1><img src='http://commons.wikimedia.org/wiki/Special:FilePath/Stanislaw_Lem_2.jpg?width=300'/><li> Bajki robot\u00f3w</li><li> Solaris (powie\u015b\u0107)</li><li> Bezsenno\u015b\u0107 (zbi\u00f3r opowiada\u0144)</li><li> G\u0142os Pana</li><li> Inwazja z Aldebarana (zbi\u00f3r opowiada\u0144)</li><li> Katar (powie\u015b\u0107)</li><li> Ksi\u0119ga robot\u00f3w</li><li> Maska (zbi\u00f3r dzie\u0142)</li><li> Niezwyci\u0119\u017cony i inne opowiadania</li><li> Noc ksi\u0119\u017cycowa</li><li> Pami\u0119tnik znaleziony w wannie</li><li> Polowanie (zbi\u00f3r opowiada\u0144)</li><li> Powt\u00f3rka (zbi\u00f3r dzie\u0142)</li><li> Po\u017cytek ze smoka</li><li> Rasa drapie\u017cc\u00f3w. Teksty ostatnie</li><li> Sezam i inne opowiadania</li><li> Summa technologiae</li><li> Wizja lokalna (powie\u015b\u0107)</li>\""
       ]
      }
     ],
     "prompt_number": 140
    },
    {
     "cell_type": "heading",
     "level": 3,
     "metadata": {},
     "source": [
      "Zadanie 7"
     ]
    },
    {
     "cell_type": "markdown",
     "metadata": {},
     "source": [
      "W\u015br\u00f3d ksi\u0105\u017cek napisanych przez Lema wy\u015bwietl wszystkie, kt\u00f3re zawieraja w tytule s\u0142owo \"zbi\u00f3r\"."
     ]
    },
    {
     "cell_type": "code",
     "collapsed": false,
     "input": [
      "def display_author(author)\n",
      "  html = \"\"\n",
      "    html << \"<h1>#{author.name} #{author.surname} #{author.born} #{author.died} </h1><img src='#{author.image_url}'/>\"\n",
      "    author.books.each do |book|\n",
      "      html << \"<li> #{book.title}</li>\" if book.title =~ /zbi\u00f3r/\n",
      "    end\n",
      "  html\n",
      "end\n",
      "\n",
      "author = Author.where(\"surname like 'Lem'\").first\n",
      "document = display_author(author)\n",
      "IRuby.html document\n"
     ],
     "language": "python",
     "metadata": {},
     "outputs": [
      {
       "html": [
        "<h1>Stanis\u0142aw Lem 1921-09-12 2006-03-27 </h1><img src='http://commons.wikimedia.org/wiki/Special:FilePath/Stanislaw_Lem_2.jpg?width=300'/><li> Bezsenno\u015b\u0107 (zbi\u00f3r opowiada\u0144)</li><li> Inwazja z Aldebarana (zbi\u00f3r opowiada\u0144)</li><li> Maska (zbi\u00f3r dzie\u0142)</li><li> Polowanie (zbi\u00f3r opowiada\u0144)</li><li> Powt\u00f3rka (zbi\u00f3r dzie\u0142)</li>"
       ],
       "metadata": {},
       "output_type": "pyout",
       "prompt_number": 147,
       "text": [
        "\"<h1>Stanis\u0142aw Lem 1921-09-12 2006-03-27 </h1><img src='http://commons.wikimedia.org/wiki/Special:FilePath/Stanislaw_Lem_2.jpg?width=300'/><li> Bezsenno\u015b\u0107 (zbi\u00f3r opowiada\u0144)</li><li> Inwazja z Aldebarana (zbi\u00f3r opowiada\u0144)</li><li> Maska (zbi\u00f3r dzie\u0142)</li><li> Polowanie (zbi\u00f3r opowiada\u0144)</li><li> Powt\u00f3rka (zbi\u00f3r dzie\u0142)</li>\""
       ]
      }
     ],
     "prompt_number": 147
    },
    {
     "cell_type": "heading",
     "level": 3,
     "metadata": {},
     "source": [
      "Zadanie 8"
     ]
    },
    {
     "cell_type": "markdown",
     "metadata": {},
     "source": [
      "W\u015br\u00f3d ksi\u0105\u017cek napisanych przez Lema wy\u015bwietl te, kt\u00f3re zosta\u0142y wydane w roku jego \u015bmierci."
     ]
    },
    {
     "cell_type": "code",
     "collapsed": false,
     "input": [
      "def display_author(author)\n",
      "  html = \"\"\n",
      "    html << \"<h1>#{author.name} #{author.surname} #{author.born} #{author.died} </h1><img src='#{author.image_url}'/>\"\n",
      "  author.books.where(published: author.died.year).each do |book|\n",
      "      html << \"<li> #{book.title}</li>\"\n",
      "    end\n",
      "  html\n",
      "end\n",
      "\n",
      "author = Author.where(\"surname like 'Lem'\").first\n",
      "document = display_author(author)\n",
      "IRuby.html document"
     ],
     "language": "python",
     "metadata": {},
     "outputs": [
      {
       "html": [
        "<h1>Stanis\u0142aw Lem 1921-09-12 2006-03-27 </h1><img src='http://commons.wikimedia.org/wiki/Special:FilePath/Stanislaw_Lem_2.jpg?width=300'/><li> Rasa drapie\u017cc\u00f3w. Teksty ostatnie</li>"
       ],
       "metadata": {},
       "output_type": "pyout",
       "prompt_number": 55,
       "text": [
        "\"<h1>Stanis\u0142aw Lem 1921-09-12 2006-03-27 </h1><img src='http://commons.wikimedia.org/wiki/Special:FilePath/Stanislaw_Lem_2.jpg?width=300'/><li> Rasa drapie\u017cc\u00f3w. Teksty ostatnie</li>\""
       ]
      }
     ],
     "prompt_number": 55
    },
    {
     "cell_type": "heading",
     "level": 3,
     "metadata": {},
     "source": [
      "Zadanie 9"
     ]
    },
    {
     "cell_type": "markdown",
     "metadata": {},
     "source": [
      "Wy\u015bwietl wszystkie ksi\u0105\u017cki znajduj\u0105ce si\u0119 w bazie. Opis powinien zawiera\u0107 tytu\u0142, imi\u0119 i nazwisko autora, rok wydania oraz \n",
      "obraz przedstawiaj\u0105cy ksi\u0105\u017ck\u0119 (o ile istnieje)."
     ]
    },
    {
     "cell_type": "code",
     "collapsed": false,
     "input": [
      "def display_books(books)\n",
      "  html = \"\"\n",
      "  books.each do |book|\n",
      "    html << \"<h1>#{book.title}</h1><h2>#{book.author.name} #{book.author.surname} #{book.published}</h2><img src='#{book.image_url}'/>\"\n",
      "  end\n",
      "  html\n",
      "end\n",
      "\n",
      "books = Book.all\n",
      "\n",
      "document = display_books(books)\n",
      "IRuby.html document"
     ],
     "language": "python",
     "metadata": {},
     "outputs": [
      {
       "html": [
        "<h1>V\u00e9gj\u00e1t\u00e9k (reg\u00e9ny)</h1><h2>Orson Scott Card </h2><img src=''/><h1>Pani Jeziora (powie\u015b\u0107)</h1><h2>Andrzej Sapkowski 1999</h2><img src=''/><h1>Bellew Zawierucha</h1><h2>Jack London 1912</h2><img src=''/><h1>Fa\u0142szywy trop (powie\u015b\u0107)</h1><h2>Henning Mankell 1995</h2><img src=''/><h1>Bajki robot\u00f3w</h1><h2>Stanis\u0142aw Lem 1964</h2><img src=''/><h1>Boles\u0142aw Chrobry (powie\u015b\u0107)</h1><h2>Antoni Go\u0142ubiew 1947</h2><img src=''/><h1>De revolutionibus orbium coelestium</h1><h2>Miko\u0142aj Kopernik 1543</h2><img src=''/><h1>Dzie\u0142o Wielkiego Mi\u0142osierdzia</h1><h2>Maria Franciszka Koz\u0142owska 1922</h2><img src=''/><h1>Folwark zwierz\u0119cy</h1><h2>George Orwell 1945</h2><img src='http://commons.wikimedia.org/wiki/Special:FilePath/Animalism_flag.svg?width=300'/><h1>Hamlet</h1><h2>William Szekspir </h2><img src='http://commons.wikimedia.org/wiki/Special:FilePath/Hamlet_quarto_3rd.jpg?width=300'/><h1>Harry Potter</h1><h2>J. K. Rowling 1997</h2><img src='http://commons.wikimedia.org/wiki/Special:FilePath/Harry_Potter_wordmark.svg?width=300'/><h1>Hobbit, czyli tam i z powrotem</h1><h2>John Ronald Reuel Tolkien 1937</h2><img src=''/><h1>Hrabia Monte Christo</h1><h2>Aleksander Dumas (ojciec) 1844</h2><img src='http://commons.wikimedia.org/wiki/Special:FilePath/Louis_Fran\u00e7ais-Dant\u00e8s_sur_son_rocher.jpg?width=300'/><h1>Kariera Nikodema Dyzmy</h1><h2>Tadeusz Do\u0142\u0119ga-Mostowicz 1932</h2><img src=''/><h1>Krzy\u017cacy (powie\u015b\u0107)</h1><h2>Henryk Sienkiewicz 1900</h2><img src='http://commons.wikimedia.org/wiki/Special:FilePath/PL_Henryk_Sienkiewicz-Krzy\u017cacy_0005.jpeg?width=300'/><h1>Lolita</h1><h2>Vladimir Nabokov 1955</h2><img src=''/><h1>Mein Kampf</h1><h2>Adolf Hitler 1925</h2><img src='http://commons.wikimedia.org/wiki/Special:FilePath/Landsberg.Jail.jpg?width=300'/><h1>Nad Niemnem</h1><h2>Eliza Orzeszkowa 1888</h2><img src='http://commons.wikimedia.org/wiki/Special:FilePath/Nad_Niemnem_-_manuscript.jpg?width=300'/><h1>Niedoko\u0144czone opowie\u015bci</h1><h2>Christopher Tolkien 1980</h2><img src=''/><h1>Nowe Ateny</h1><h2>Benedykt Chmielowski 1745</h2><img src='http://commons.wikimedia.org/wiki/Special:FilePath/Nowe_ateny1.jpg?width=300'/><h1>Nowy wspania\u0142y \u015bwiat</h1><h2>Aldous Huxley 1932</h2><img src=''/><h1>Ogniem i mieczem</h1><h2>Henryk Sienkiewicz 1884</h2><img src='http://commons.wikimedia.org/wiki/Special:FilePath/Podbipieta.JPG?width=300'/><h1>Ojciec Goriot</h1><h2>Honor\u00e9 de Balzac 1835</h2><img src='http://commons.wikimedia.org/wiki/Special:FilePath/Father_Goriot_by_H._Daumier_(1842).JPG?width=300'/><h1>Proces (powie\u015b\u0107)</h1><h2>Franz Kafka 1925</h2><img src='http://commons.wikimedia.org/wiki/Special:FilePath/Kafka_Der_Prozess_1925.jpg?width=300'/><h1>Psa\u0142terz Dawid\u00f3w</h1><h2>Jan Kochanowski 1579</h2><img src='http://commons.wikimedia.org/wiki/Special:FilePath/Kochanowski_-_Psa\u0142terz_Dawid\u00f3w_(1579).jpg?width=300'/><h1>Quo vadis</h1><h2>Henryk Sienkiewicz 1896</h2><img src='http://commons.wikimedia.org/wiki/Special:FilePath/Rzym_popiersie_Sienkiewicza_w_kosciele_Domine_Quo_Vadis.JPG?width=300'/><h1>Romeo i Julia</h1><h2>William Szekspir 1597</h2><img src='http://commons.wikimedia.org/wiki/Special:FilePath/Romeo_and_juliet_brown.jpg?width=300'/><h1>Silmarillion</h1><h2>John Ronald Reuel Tolkien 1977</h2><img src='http://commons.wikimedia.org/wiki/Special:FilePath/Silmarrillion,_Just_under_the_Cover.jpg?width=300'/><h1>Solaris (powie\u015b\u0107)</h1><h2>Stanis\u0142aw Lem 1961</h2><img src='http://commons.wikimedia.org/wiki/Special:FilePath/Solaris,_various_editions_02.jpg?width=300'/><h1>W\u0142adca Pier\u015bcieni</h1><h2>John Ronald Reuel Tolkien 1954</h2><img src='http://commons.wikimedia.org/wiki/Special:FilePath/Unico_Anello.png?width=300'/><h1>Zew Cthulhu (opowiadanie)</h1><h2>Howard Phillips Lovecraft 1928</h2><img src=''/><h1>Znaczy Kapitan</h1><h2>Karol Olgierd Borchardt 1960</h2><img src=''/><h1>Anna Karenina</h1><h2>Lew To\u0142stoj 1877</h2><img src='http://commons.wikimedia.org/wiki/Special:FilePath/AnnaKareninaTitle.jpg?width=300'/><h1>Azazel (powie\u015b\u0107)</h1><h2>Boris Akunin 1998</h2><img src=''/><h1>Bezsenno\u015b\u0107 (zbi\u00f3r opowiada\u0144)</h1><h2>Stanis\u0142aw Lem 1971</h2><img src=''/><h1>Ca\u0142a prawda o planecie Ksi</h1><h2>Janusz Zajdel 1983</h2><img src=''/><h1>Dekorator</h1><h2>Boris Akunin 1998</h2><img src=''/><h1>Diamentowa karoca</h1><h2>Boris Akunin 2003</h2><img src=''/><h1>Dives in misericordia</h1><h2>Jan Pawe\u0142 II 1980</h2><img src='http://commons.wikimedia.org/wiki/Special:FilePath/John_paul_2_coa.svg?width=300'/><h1>Droga na molo w Wigan</h1><h2>George Orwell 1937</h2><img src=''/><h1>Druga Fundacja</h1><h2>Isaac Asimov 1953</h2><img src=''/><h1>Dwana\u015bcie krzese\u0142</h1><h2>Ilja Ilf 1928</h2><img src='http://commons.wikimedia.org/wiki/Special:FilePath/Ostap_Bender_Monument_in_Kharkiv.jpg?width=300'/><h1>Fundacja (powie\u015b\u0107)</h1><h2>Isaac Asimov 1951</h2><img src=''/><h1>Fundacja i Imperium</h1><h2>Isaac Asimov 1952</h2><img src=''/><h1>Gambit turecki</h1><h2>Boris Akunin 1998</h2><img src=''/><h1>G\u0142os Pana</h1><h2>Stanis\u0142aw Lem 1968</h2><img src=''/><h1>Ich czworo</h1><h2>Gabriela Zapolska 1907</h2><img src=''/><h1>Inwazja z Aldebarana (zbi\u00f3r opowiada\u0144)</h1><h2>Stanis\u0142aw Lem 1959</h2><img src=''/><h1>Kamienna ma\u0142pa</h1><h2>Jeffery Deaver 2002</h2><img src=''/><h1>Katar (powie\u015b\u0107)</h1><h2>Stanis\u0142aw Lem 1976</h2><img src=''/><h1>Kochanek \u015amierci</h1><h2>Boris Akunin 2001</h2><img src=''/><h1>Kochanka \u015amierci</h1><h2>Boris Akunin 2001</h2><img src=''/><h1>Koronacja (powie\u015b\u0107)</h1><h2>Boris Akunin 1999</h2><img src=''/><h1>Kot w stanie czystym</h1><h2>Terry Pratchett 1989</h2><img src=''/><h1>Ko\u0144 i jego ch\u0142opiec</h1><h2>Clive Staples Lewis 1954</h2><img src=''/><h1>Ksi\u0119ga robot\u00f3w</h1><h2>Stanis\u0142aw Lem 1961</h2><img src=''/><h1>Ksi\u0119gi narodu polskiego i pielgrzymstwa polskiego</h1><h2>Adam Mickiewicz 1832</h2><img src='http://commons.wikimedia.org/wiki/Special:FilePath/PL_Ksi\u0119gi_narodu_polskiego_i_pielgrzymstwa_polskiego_008.png?width=300'/><h1>Kuzynki</h1><h2>Andrzej Pilipiuk 2003</h2><img src=''/><h1>Lewa r\u0119ka ciemno\u015bci</h1><h2>Ursula K. Le Guin 1969</h2><img src=''/><h1>Lewiatan (powie\u015b\u0107)</h1><h2>Boris Akunin 1998</h2><img src=''/><h1>Mag (powie\u015b\u0107 J. Deavera)</h1><h2>Jeffery Deaver 2003</h2><img src=''/><h1>Maska (zbi\u00f3r dzie\u0142)</h1><h2>Stanis\u0142aw Lem 1976</h2><img src=''/><h1>Niezwyci\u0119\u017cony i inne opowiadania</h1><h2>Stanis\u0142aw Lem 1964</h2><img src=''/><h1>Noc ksi\u0119\u017cycowa</h1><h2>Stanis\u0142aw Lem 1963</h2><img src=''/><h1>Ojcowie i dzieci</h1><h2>Iwan Turgieniew 0</h2><img src='http://commons.wikimedia.org/wiki/Special:FilePath/Otsy1880.jpg?width=300'/><h1>Pami\u0119tnik znaleziony w wannie</h1><h2>Stanis\u0142aw Lem 1961</h2><img src=''/><h1>Pie\u015b\u0144 Lodu i Ognia</h1><h2>George R. R. Martin 1996</h2><img src=''/><h1>Podr\u00f3\u017ce z Herodotem</h1><h2>Ryszard Kapu\u015bci\u0144ski 2004</h2><img src=''/><h1>Polowanie (zbi\u00f3r opowiada\u0144)</h1><h2>Stanis\u0142aw Lem 1965</h2><img src=''/><h1>Powt\u00f3rka (zbi\u00f3r dzie\u0142)</h1><h2>Stanis\u0142aw Lem 1979</h2><img src=''/><h1>Po\u017cytek ze smoka</h1><h2>Stanis\u0142aw Lem 1993</h2><img src=''/><h1>Preludium Fundacji</h1><h2>Isaac Asimov 1988</h2><img src=''/><h1>Radca stanu (powie\u015b\u0107)</h1><h2>Boris Akunin 1998</h2><img src=''/><h1>Rasa drapie\u017cc\u00f3w. Teksty ostatnie</h1><h2>Stanis\u0142aw Lem 2006</h2><img src=''/><h1>Rilla ze Z\u0142otego Brzegu</h1><h2>Lucy Maud Montgomery 1921</h2><img src=''/><h1>Sen nocy letniej</h1><h2>William Szekspir 1600</h2><img src='http://commons.wikimedia.org/wiki/Special:FilePath/MND_title_page.jpg?width=300'/><h1>Sezam i inne opowiadania</h1><h2>Stanis\u0142aw Lem 1954</h2><img src=''/><h1>Slavorum apostoli</h1><h2>Jan Pawe\u0142 II 1985</h2><img src='http://commons.wikimedia.org/wiki/Special:FilePath/John_paul_2_coa.svg?width=300'/><h1>Summa technologiae</h1><h2>Stanis\u0142aw Lem 1964</h2><img src=''/><h1>Tam gdzie spadaj\u0105 anio\u0142y</h1><h2>Dorota Terakowska 1998</h2><img src=''/><h1>Tomek u \u017ar\u00f3de\u0142 Amazonki</h1><h2>Alfred Szklarski 1967</h2><img src=''/><h1>Tomek w Gran Chaco</h1><h2>Alfred Szklarski 1987</h2><img src=''/><h1>Tomek w grobowcach faraon\u00f3w</h1><h2>Alfred Szklarski 1994</h2><img src=''/><h1>Ut unum sint</h1><h2>Jan Pawe\u0142 II 1995</h2><img src='http://commons.wikimedia.org/wiki/Special:FilePath/John_paul_2_coa.svg?width=300'/><h1>Veritatis splendor</h1><h2>Jan Pawe\u0142 II 1993</h2><img src='http://commons.wikimedia.org/wiki/Special:FilePath/John_paul_2_coa.svg?width=300'/><h1>Walc stulecia</h1><h2>Rafa\u0142 A. Ziemkiewicz 1998</h2><img src=''/><h1>Walet pikowy (powie\u015b\u0107)</h1><h2>Boris Akunin 1998</h2><img src=''/><h1>Wampir Lestat</h1><h2>Anne Rice 1985</h2><img src=''/><h1>Wizja lokalna (powie\u015b\u0107)</h1><h2>Stanis\u0142aw Lem 1982</h2><img src=''/><h1>Wojna i pok\u00f3j</h1><h2>Lew To\u0142stoj 1865</h2><img src='http://commons.wikimedia.org/wiki/Special:FilePath/War-and-peace_1873.gif?width=300'/><h1>\u015amier\u0107 Achillesa</h1><h2>Boris Akunin 1998</h2><img src=''/><h1>\u017bycie i przygody Remusa</h1><h2>Aleksander Majkowski 1938</h2><img src=''/><h1>Casino Royale (powie\u015b\u0107)</h1><h2>Ian Fleming 1953</h2><img src=''/><h1>Cie\u0144 kata</h1><h2>Gene Wolfe 1980</h2><img src=''/><h1>Czarnoksi\u0119\u017cnik z Archipelagu</h1><h2>Ursula K. Le Guin 1968</h2><img src=''/><h1>Czarownica z Portobello</h1><h2>Paulo Coelho 2006</h2><img src=''/><h1>Czas patriot\u00f3w (powie\u015b\u0107)</h1><h2>Tom Clancy 1987</h2><img src=''/>"
       ],
       "metadata": {},
       "output_type": "pyout",
       "prompt_number": 53,
       "text": [
        "\"<h1>V\u00e9gj\u00e1t\u00e9k (reg\u00e9ny)</h1><h2>Orson Scott Card </h2><img src=''/><h1>Pani Jeziora (powie\u015b\u0107)</h1><h2>Andrzej Sapkowski 1999</h2><img src=''/><h1>Bellew Zawierucha</h1><h2>Jack London 1912</h2><img src=''/><h1>Fa\u0142szywy trop (powie\u015b\u0107)</h1><h2>Henning Mankell 1995</h2><img src=''/><h1>Bajki robot\u00f3w</h1><h2>Stanis\u0142aw Lem 1964</h2><img src=''/><h1>Boles\u0142aw Chrobry (powie\u015b\u0107)</h1><h2>Antoni Go\u0142ubiew 1947</h2><img src=''/><h1>De revolutionibus orbium coelestium</h1><h2>Miko\u0142aj Kopernik 1543</h2><img src=''/><h1>Dzie\u0142o Wielkiego Mi\u0142osierdzia</h1><h2>Maria Franciszka Koz\u0142owska 1922</h2><img src=''/><h1>Folwark zwierz\u0119cy</h1><h2>George Orwell 1945</h2><img src='http://commons.wikimedia.org/wiki/Special:FilePath/Animalism_flag.svg?width=300'/><h1>Hamlet</h1><h2>William Szekspir </h2><img src='http://commons.wikimedia.org/wiki/Special:FilePath/Hamlet_quarto_3rd.jpg?width=300'/><h1>Harry Potter</h1><h2>J. K. Rowling 1997</h2><img src='http://commons.wikimedia.org/wiki/Special:FilePath/Harry_Potter_wordmark.svg?width=300'/><h1>Hobbit, czyli tam i z powrotem</h1><h2>John Ronald Reuel Tolkien 1937</h2><img src=''/><h1>Hrabia Monte Christo</h1><h2>Aleksander Dumas (ojciec) 1844</h2><img src='http://commons.wikimedia.org/wiki/Special:FilePath/Louis_Fran\u00e7ais-Dant\u00e8s_sur_son_rocher.jpg?width=300'/><h1>Kariera Nikodema Dyzmy</h1><h2>Tadeusz Do\u0142\u0119ga-Mostowicz 1932</h2><img src=''/><h1>Krzy\u017cacy (powie\u015b\u0107)</h1><h2>Henryk Sienkiewicz 1900</h2><img src='http://commons.wikimedia.org/wiki/Special:FilePath/PL_Henryk_Sienkiewicz-Krzy\u017cacy_0005.jpeg?width=300'/><h1>Lolita</h1><h2>Vladimir Nabokov 1955</h2><img src=''/><h1>Mein Kampf</h1><h2>Adolf Hitler 1925</h2><img src='http://commons.wikimedia.org/wiki/Special:FilePath/Landsberg.Jail.jpg?width=300'/><h1>Nad Niemnem</h1><h2>Eliza Orzeszkowa 1888</h2><img src='http://commons.wikimedia.org/wiki/Special:FilePath/Nad_Niemnem_-_manuscript.jpg?width=300'/><h1>Niedoko\u0144czone opowie\u015bci</h1><h2>Christopher Tolkien 1980</h2><img src=''/><h1>Nowe Ateny</h1><h2>Benedykt Chmielowski 1745</h2><img src='http://commons.wikimedia.org/wiki/Special:FilePath/Nowe_ateny1.jpg?width=300'/><h1>Nowy wspania\u0142y \u015bwiat</h1><h2>Aldous Huxley 1932</h2><img src=''/><h1>Ogniem i mieczem</h1><h2>Henryk Sienkiewicz 1884</h2><img src='http://commons.wikimedia.org/wiki/Special:FilePath/Podbipieta.JPG?width=300'/><h1>Ojciec Goriot</h1><h2>Honor\u00e9 de Balzac 1835</h2><img src='http://commons.wikimedia.org/wiki/Special:FilePath/Father_Goriot_by_H._Daumier_(1842).JPG?width=300'/><h1>Proces (powie\u015b\u0107)</h1><h2>Franz Kafka 1925</h2><img src='http://commons.wikimedia.org/wiki/Special:FilePath/Kafka_Der_Prozess_1925.jpg?width=300'/><h1>Psa\u0142terz Dawid\u00f3w</h1><h2>Jan Kochanowski 1579</h2><img src='http://commons.wikimedia.org/wiki/Special:FilePath/Kochanowski_-_Psa\u0142terz_Dawid\u00f3w_(1579).jpg?width=300'/><h1>Quo vadis</h1><h2>Henryk Sienkiewicz 1896</h2><img src='http://commons.wikimedia.org/wiki/Special:FilePath/Rzym_popiersie_Sienkiewicza_w_kosciele_Domine_Quo_Vadis.JPG?width=300'/><h1>Romeo i Julia</h1><h2>William Szekspir 1597</h2><img src='http://commons.wikimedia.org/wiki/Special:FilePath/Romeo_and_juliet_brown.jpg?width=300'/><h1>Silmarillion</h1><h2>John Ronald Reuel Tolkien 1977</h2><img src='http://commons.wikimedia.org/wiki/Special:FilePath/Silmarrillion,_Just_under_the_Cover.jpg?width=300'/><h1>Solaris (powie\u015b\u0107)</h1><h2>Stanis\u0142aw Lem 1961</h2><img src='http://commons.wikimedia.org/wiki/Special:FilePath/Solaris,_various_editions_02.jpg?width=300'/><h1>W\u0142adca Pier\u015bcieni</h1><h2>John Ronald Reuel Tolkien 1954</h2><img src='http://commons.wikimedia.org/wiki/Special:FilePath/Unico_Anello.png?width=300'/><h1>Zew Cthulhu (opowiadanie)</h1><h2>Howard Phillips Lovecraft 1928</h2><img src=''/><h1>Znaczy Kapitan</h1><h2>Karol Olgierd Borchardt 1960</h2><img src=''/><h1>Anna Karenina</h1><h2>Lew To\u0142stoj 1877</h2><img src='http://commons.wikimedia.org/wiki/Special:FilePath/AnnaKareninaTitle.jpg?width=300'/><h1>Azazel (powie\u015b\u0107)</h1><h2>Boris Akunin 1998</h2><img src=''/><h1>Bezsenno\u015b\u0107 (zbi\u00f3r opowiada\u0144)</h1><h2>Stanis\u0142aw Lem 1971</h2><img src=''/><h1>Ca\u0142a prawda o planecie Ksi</h1><h2>Janusz Zajdel 1983</h2><img src=''/><h1>Dekorator</h1><h2>Boris Akunin 1998</h2><img src=''/><h1>Diamentowa karoca</h1><h2>Boris Akunin 2003</h2><img src=''/><h1>Dives in misericordia</h1><h2>Jan Pawe\u0142 II 1980</h2><img src='http://commons.wikimedia.org/wiki/Special:FilePath/John_paul_2_coa.svg?width=300'/><h1>Droga na molo w Wigan</h1><h2>George Orwell 1937</h2><img src=''/><h1>Druga Fundacja</h1><h2>Isaac Asimov 1953</h2><img src=''/><h1>Dwana\u015bcie krzese\u0142</h1><h2>Ilja Ilf 1928</h2><img src='http://commons.wikimedia.org/wiki/Special:FilePath/Ostap_Bender_Monument_in_Kharkiv.jpg?width=300'/><h1>Fundacja (powie\u015b\u0107)</h1><h2>Isaac Asimov 1951</h2><img src=''/><h1>Fundacja i Imperium</h1><h2>Isaac Asimov 1952</h2><img src=''/><h1>Gambit turecki</h1><h2>Boris Akunin 1998</h2><img src=''/><h1>G\u0142os Pana</h1><h2>Stanis\u0142aw Lem 1968</h2><img src=''/><h1>Ich czworo</h1><h2>Gabriela Zapolska 1907</h2><img src=''/><h1>Inwazja z Aldebarana (zbi\u00f3r opowiada\u0144)</h1><h2>Stanis\u0142aw Lem 1959</h2><img src=''/><h1>Kamienna ma\u0142pa</h1><h2>Jeffery Deaver 2002</h2><img src=''/><h1>Katar (powie\u015b\u0107)</h1><h2>Stanis\u0142aw Lem 1976</h2><img src=''/><h1>Kochanek \u015amierci</h1><h2>Boris Akunin 2001</h2><img src=''/><h1>Kochanka \u015amierci</h1><h2>Boris Akunin 2001</h2><img src=''/><h1>Koronacja (powie\u015b\u0107)</h1><h2>Boris Akunin 1999</h2><img src=''/><h1>Kot w stanie czystym</h1><h2>Terry Pratchett 1989</h2><img src=''/><h1>Ko\u0144 i jego ch\u0142opiec</h1><h2>Clive Staples Lewis 1954</h2><img src=''/><h1>Ksi\u0119ga robot\u00f3w</h1><h2>Stanis\u0142aw Lem 1961</h2><img src=''/><h1>Ksi\u0119gi narodu polskiego i pielgrzymstwa polskiego</h1><h2>Adam Mickiewicz 1832</h2><img src='http://commons.wikimedia.org/wiki/Special:FilePath/PL_Ksi\u0119gi_narodu_polskiego_i_pielgrzymstwa_polskiego_008.png?width=300'/><h1>Kuzynki</h1><h2>Andrzej Pilipiuk 2003</h2><img src=''/><h1>Lewa r\u0119ka ciemno\u015bci</h1><h2>Ursula K. Le Guin 1969</h2><img src=''/><h1>Lewiatan (powie\u015b\u0107)</h1><h2>Boris Akunin 1998</h2><img src=''/><h1>Mag (powie\u015b\u0107 J. Deavera)</h1><h2>Jeffery Deaver 2003</h2><img src=''/><h1>Maska (zbi\u00f3r dzie\u0142)</h1><h2>Stanis\u0142aw Lem 1976</h2><img src=''/><h1>Niezwyci\u0119\u017cony i inne opowiadania</h1><h2>Stanis\u0142aw Lem 1964</h2><img src=''/><h1>Noc ksi\u0119\u017cycowa</h1><h2>Stanis\u0142aw Lem 1963</h2><img src=''/><h1>Ojcowie i dzieci</h1><h2>Iwan Turgieniew 0</h2><img src='http://commons.wikimedia.org/wiki/Special:FilePath/Otsy1880.jpg?width=300'/><h1>Pami\u0119tnik znaleziony w wannie</h1><h2>Stanis\u0142aw Lem 1961</h2><img src=''/><h1>Pie\u015b\u0144 Lodu i Ognia</h1><h2>George R. R. Martin 1996</h2><img src=''/><h1>Podr\u00f3\u017ce z Herodotem</h1><h2>Ryszard Kapu\u015bci\u0144ski 2004</h2><img src=''/><h1>Polowanie (zbi\u00f3r opowiada\u0144)</h1><h2>Stanis\u0142aw Lem 1965</h2><img src=''/><h1>Powt\u00f3rka (zbi\u00f3r dzie\u0142)</h1><h2>Stanis\u0142aw Lem 1979</h2><img src=''/><h1>Po\u017cytek ze smoka</h1><h2>Stanis\u0142aw Lem 1993</h2><img src=''/><h1>Preludium Fundacji</h1><h2>Isaac Asimov 1988</h2><img src=''/><h1>Radca stanu (powie\u015b\u0107)</h1><h2>Boris Akunin 1998</h2><img src=''/><h1>Rasa drapie\u017cc\u00f3w. Teksty ostatnie</h1><h2>Stanis\u0142aw Lem 2006</h2><img src=''/><h1>Rilla ze Z\u0142otego Brzegu</h1><h2>Lucy Maud Montgomery 1921</h2><img src=''/><h1>Sen nocy letniej</h1><h2>William Szekspir 1600</h2><img src='http://commons.wikimedia.org/wiki/Special:FilePath/MND_title_page.jpg?width=300'/><h1>Sezam i inne opowiadania</h1><h2>Stanis\u0142aw Lem 1954</h2><img src=''/><h1>Slavorum apostoli</h1><h2>Jan Pawe\u0142 II 1985</h2><img src='http://commons.wikimedia.org/wiki/Special:FilePath/John_paul_2_coa.svg?width=300'/><h1>Summa technologiae</h1><h2>Stanis\u0142aw Lem 1964</h2><img src=''/><h1>Tam gdzie spadaj\u0105 anio\u0142y</h1><h2>Dorota Terakowska 1998</h2><img src=''/><h1>Tomek u \u017ar\u00f3de\u0142 Amazonki</h1><h2>Alfred Szklarski 1967</h2><img src=''/><h1>Tomek w Gran Chaco</h1><h2>Alfred Szklarski 1987</h2><img src=''/><h1>Tomek w grobowcach faraon\u00f3w</h1><h2>Alfred Szklarski 1994</h2><img src=''/><h1>Ut unum sint</h1><h2>Jan Pawe\u0142 II 1995</h2><img src='http://commons.wikimedia.org/wiki/Special:FilePath/John_paul_2_coa.svg?width=300'/><h1>Veritatis splendor</h1><h2>Jan Pawe\u0142 II 1993</h2><img src='http://commons.wikimedia.org/wiki/Special:FilePath/John_paul_2_coa.svg?width=300'/><h1>Walc stulecia</h1><h2>Rafa\u0142 A. Ziemkiewicz 1998</h2><img src=''/><h1>Walet pikowy (powie\u015b\u0107)</h1><h2>Boris Akunin 1998</h2><img src=''/><h1>Wampir Lestat</h1><h2>Anne Rice 1985</h2><img src=''/><h1>Wizja lokalna (powie\u015b\u0107)</h1><h2>Stanis\u0142aw Lem 1982</h2><img src=''/><h1>Wojna i pok\u00f3j</h1><h2>Lew To\u0142stoj 1865</h2><img src='http://commons.wikimedia.org/wiki/Special:FilePath/War-and-peace_1873.gif?width=300'/><h1>\u015amier\u0107 Achillesa</h1><h2>Boris Akunin 1998</h2><img src=''/><h1>\u017bycie i przygody Remusa</h1><h2>Aleksander Majkowski 1938</h2><img src=''/><h1>Casino Royale (powie\u015b\u0107)</h1><h2>Ian Fleming 1953</h2><img src=''/><h1>Cie\u0144 kata</h1><h2>Gene Wolfe 1980</h2><img src=''/><h1>Czarnoksi\u0119\u017cnik z Archipelagu</h1><h2>Ursula K. Le Guin 1968</h2><img src=''/><h1>Czarownica z Portobello</h1><h2>Paulo Coelho 2006</h2><img src=''/><h1>Czas patriot\u00f3w (powie\u015b\u0107)</h1><h2>Tom Clancy 1987</h2><img src=''/>\""
       ]
      }
     ],
     "prompt_number": 53
    },
    {
     "cell_type": "heading",
     "level": 3,
     "metadata": {},
     "source": [
      "Zadanie 10"
     ]
    },
    {
     "cell_type": "markdown",
     "metadata": {},
     "source": [
      "Wy\u015bwietl wszystkich autor\u00f3w znajduj\u0105cych si\u0119 w bazie wraz z opisem zawieraj\u0105cym ich zdj\u0119cie, dat\u0119 urodzin i \u015bmierci oraz spis \n",
      "opublikowanych ksi\u0105\u017cek. Pami\u0119taj o odpowiednim sformatowaniu dat oraz o tym, \u017ce nie wszyscy autorzy maj\u0105 przypisane wszystkie\n",
      "informacje."
     ]
    },
    {
     "cell_type": "code",
     "collapsed": false,
     "input": [
      "def display_author(author)\n",
      "  \"<h1>#{author.name} #{author.surname}</h1><h2>#{author.born} #{author.died}</h2>\n",
      "  <img src='#{author.image_url}'/>\" + display_books(author)\n",
      "end\n",
      "\n",
      "def display_authors(authors)\n",
      "  zmienna = \"\"\n",
      "  authors.each do |author|\n",
      "    zmienna << display_author(author)\n",
      "  end\n",
      "  return zmienna\n",
      "end\n",
      "\n",
      "def display_books(author)\n",
      "  zmienna2 = \"\"\n",
      "  author.books.each do |book|\n",
      "    zmienna2 << \"<li><h1>#{book.title}</h1> #{book.published}</h2></li>\"\n",
      "  end\n",
      "  return zmienna2\n",
      "end\n",
      "\n",
      "authors = Author.all\n",
      "\n",
      "document = display_authors(authors)\n",
      "IRuby.html document"
     ],
     "language": "python",
     "metadata": {},
     "outputs": [
      {
       "html": [
        "<h1>Adam Mickiewicz</h1><h2> </h2>\n",
        "  <img src=''/><li><h1>Ksi\u0119gi narodu polskiego i pielgrzymstwa polskiego</h1> 1832</h2></li><h1>Orson Scott Card</h1><h2>1951-08-24 </h2>\n",
        "  <img src='http://commons.wikimedia.org/wiki/Special:FilePath/Orson_Scott_Card_at_BYU_Symposium_20080216_closeup.jpg?width=300'/><li><h1>V\u00e9gj\u00e1t\u00e9k (reg\u00e9ny)</h1> </h2></li><h1>Andrzej Sapkowski</h1><h2>1948-06-21 </h2>\n",
        "  <img src='http://commons.wikimedia.org/wiki/Special:FilePath/Sapkowski.jpg?width=300'/><li><h1>Pani Jeziora (powie\u015b\u0107)</h1> 1999</h2></li><h1>Jack London</h1><h2>1876-01-12 1916-11-22</h2>\n",
        "  <img src='http://commons.wikimedia.org/wiki/Special:FilePath/JackLondon02.jpeg?width=300'/><li><h1>Bellew Zawierucha</h1> 1912</h2></li><h1>Henning Mankell</h1><h2>1948-02-03 </h2>\n",
        "  <img src='http://commons.wikimedia.org/wiki/Special:FilePath/Henning_Mankell_3_2011_Shankbone.jpg?width=300'/><li><h1>Fa\u0142szywy trop (powie\u015b\u0107)</h1> 1995</h2></li><h1>Stanis\u0142aw Lem</h1><h2>1921-09-12 2006-03-27</h2>\n",
        "  <img src='http://commons.wikimedia.org/wiki/Special:FilePath/Stanislaw_Lem_2.jpg?width=300'/><li><h1>Bajki robot\u00f3w</h1> 1964</h2></li><li><h1>Solaris (powie\u015b\u0107)</h1> 1961</h2></li><li><h1>Bezsenno\u015b\u0107 (zbi\u00f3r opowiada\u0144)</h1> 1971</h2></li><li><h1>G\u0142os Pana</h1> 1968</h2></li><li><h1>Inwazja z Aldebarana (zbi\u00f3r opowiada\u0144)</h1> 1959</h2></li><li><h1>Katar (powie\u015b\u0107)</h1> 1976</h2></li><li><h1>Ksi\u0119ga robot\u00f3w</h1> 1961</h2></li><li><h1>Maska (zbi\u00f3r dzie\u0142)</h1> 1976</h2></li><li><h1>Niezwyci\u0119\u017cony i inne opowiadania</h1> 1964</h2></li><li><h1>Noc ksi\u0119\u017cycowa</h1> 1963</h2></li><li><h1>Pami\u0119tnik znaleziony w wannie</h1> 1961</h2></li><li><h1>Polowanie (zbi\u00f3r opowiada\u0144)</h1> 1965</h2></li><li><h1>Powt\u00f3rka (zbi\u00f3r dzie\u0142)</h1> 1979</h2></li><li><h1>Po\u017cytek ze smoka</h1> 1993</h2></li><li><h1>Rasa drapie\u017cc\u00f3w. Teksty ostatnie</h1> 2006</h2></li><li><h1>Sezam i inne opowiadania</h1> 1954</h2></li><li><h1>Summa technologiae</h1> 1964</h2></li><li><h1>Wizja lokalna (powie\u015b\u0107)</h1> 1982</h2></li><h1>Antoni Go\u0142ubiew</h1><h2>1907-02-25 1979-06-27</h2>\n",
        "  <img src='http://commons.wikimedia.org/wiki/Special:FilePath/Antoni_Golubiew.jpg?width=300'/><li><h1>Boles\u0142aw Chrobry (powie\u015b\u0107)</h1> 1947</h2></li><h1>Miko\u0142aj Kopernik</h1><h2>1473-02-19 1543-05-24</h2>\n",
        "  <img src='http://commons.wikimedia.org/wiki/Special:FilePath/Nikolaus_Kopernikus.jpg?width=300'/><li><h1>De revolutionibus orbium coelestium</h1> 1543</h2></li><h1>Maria Franciszka Koz\u0142owska</h1><h2>1862-05-27 </h2>\n",
        "  <img src='http://commons.wikimedia.org/wiki/Special:FilePath/Mateczk_Koz\u0142owska.JPG?width=300'/><li><h1>Dzie\u0142o Wielkiego Mi\u0142osierdzia</h1> 1922</h2></li><h1>George Orwell</h1><h2>1903-06-25 1950-01-21</h2>\n",
        "  <img src='http://commons.wikimedia.org/wiki/Special:FilePath/GeoreOrwell.jpg?width=300'/><li><h1>Folwark zwierz\u0119cy</h1> 1945</h2></li><li><h1>Droga na molo w Wigan</h1> 1937</h2></li><h1>William Szekspir</h1><h2>1564-04-23 1616-05-03</h2>\n",
        "  <img src='http://commons.wikimedia.org/wiki/Special:FilePath/Shakespeare.jpg?width=300'/><li><h1>Hamlet</h1> </h2></li><li><h1>Romeo i Julia</h1> 1597</h2></li><li><h1>Sen nocy letniej</h1> 1600</h2></li><h1>J. K. Rowling</h1><h2>1965-07-31 </h2>\n",
        "  <img src='http://commons.wikimedia.org/wiki/Special:FilePath/J._K._Rowling_2010.jpg?width=300'/><li><h1>Harry Potter</h1> 1997</h2></li><h1>John Ronald Reuel Tolkien</h1><h2>1892-01-03 1973-09-02</h2>\n",
        "  <img src='http://commons.wikimedia.org/wiki/Special:FilePath/Tolkien_1916.jpg?width=300'/><li><h1>Hobbit, czyli tam i z powrotem</h1> 1937</h2></li><li><h1>Silmarillion</h1> 1977</h2></li><li><h1>W\u0142adca Pier\u015bcieni</h1> 1954</h2></li><h1>Aleksander Dumas (ojciec)</h1><h2>1802-07-24 1870-12-05</h2>\n",
        "  <img src='http://commons.wikimedia.org/wiki/Special:FilePath/Dumas_by_Nadar,_1855.jpg?width=300'/><li><h1>Hrabia Monte Christo</h1> 1844</h2></li><h1>Tadeusz Do\u0142\u0119ga-Mostowicz</h1><h2>1898-08-10 1939-09-20</h2>\n",
        "  <img src='http://commons.wikimedia.org/wiki/Special:FilePath/Tadeusz_Dolega-Mostowicz.jpg?width=300'/><li><h1>Kariera Nikodema Dyzmy</h1> 1932</h2></li><h1>Henryk Sienkiewicz</h1><h2>1846-05-05 1916-11-15</h2>\n",
        "  <img src='http://commons.wikimedia.org/wiki/Special:FilePath/Henryk_Sienkiewicz.PNG?width=300'/><li><h1>Krzy\u017cacy (powie\u015b\u0107)</h1> 1900</h2></li><li><h1>Ogniem i mieczem</h1> 1884</h2></li><li><h1>Quo vadis</h1> 1896</h2></li><h1>Vladimir Nabokov</h1><h2>1899-04-22 1977-07-02</h2>\n",
        "  <img src='http://commons.wikimedia.org/wiki/Special:FilePath/Monument_Nabokov_Montreux_23.12.2006.jpg?width=300'/><li><h1>Lolita</h1> 1955</h2></li><h1>Adolf Hitler</h1><h2>1889-04-20 1945-04-30</h2>\n",
        "  <img src='http://commons.wikimedia.org/wiki/Special:FilePath/Hitler_portrait_crop.jpg?width=300'/><li><h1>Mein Kampf</h1> 1925</h2></li><h1>Eliza Orzeszkowa</h1><h2>1841-06-06 1910-05-18</h2>\n",
        "  <img src='http://commons.wikimedia.org/wiki/Special:FilePath/Eliza_Orzeszkowa.PNG?width=300'/><li><h1>Nad Niemnem</h1> 1888</h2></li><h1>Christopher Tolkien</h1><h2>1924-11-21 </h2>\n",
        "  <img src=''/><li><h1>Niedoko\u0144czone opowie\u015bci</h1> 1980</h2></li><h1>Benedykt Chmielowski</h1><h2>1700-03-20 1763-04-07</h2>\n",
        "  <img src='http://commons.wikimedia.org/wiki/Special:FilePath/POL_COA_Na\u0142\u0119cz.svg?width=300'/><li><h1>Nowe Ateny</h1> 1745</h2></li><h1>Aldous Huxley</h1><h2>1894-07-26 1963-11-22</h2>\n",
        "  <img src='http://commons.wikimedia.org/wiki/Special:FilePath/Aldous_Huxley.JPG?width=300'/><li><h1>Nowy wspania\u0142y \u015bwiat</h1> 1932</h2></li><h1>Honor\u00e9 de Balzac</h1><h2>1799-05-20 1850-08-18</h2>\n",
        "  <img src='http://commons.wikimedia.org/wiki/Special:FilePath/HBalzac.jpg?width=300'/><li><h1>Ojciec Goriot</h1> 1835</h2></li><h1>Franz Kafka</h1><h2>1883-07-03 1924-06-03</h2>\n",
        "  <img src='http://commons.wikimedia.org/wiki/Special:FilePath/Kafka1906.jpg?width=300'/><li><h1>Proces (powie\u015b\u0107)</h1> 1925</h2></li><h1>Jan Kochanowski</h1><h2> 1584-08-22</h2>\n",
        "  <img src='http://commons.wikimedia.org/wiki/Special:FilePath/Jan_Kochanowski.png?width=300'/><li><h1>Psa\u0142terz Dawid\u00f3w</h1> 1579</h2></li><h1>Howard Phillips Lovecraft</h1><h2>1890-08-20 1937-03-15</h2>\n",
        "  <img src='http://commons.wikimedia.org/wiki/Special:FilePath/Howard_Phillips_Lovecraft_in_1915.jpg?width=300'/><li><h1>Zew Cthulhu (opowiadanie)</h1> 1928</h2></li><h1>Karol Olgierd Borchardt</h1><h2>1905-03-25 1986-05-20</h2>\n",
        "  <img src='http://commons.wikimedia.org/wiki/Special:FilePath/Karol_Olgierd_Borchardt's_house_in_Gdynia.jpg?width=300'/><li><h1>Znaczy Kapitan</h1> 1960</h2></li><h1>Lew To\u0142stoj</h1><h2>1828-09-09 1910-11-20</h2>\n",
        "  <img src='http://commons.wikimedia.org/wiki/Special:FilePath/Ilya_Efimovich_Repin_(1844-1930)_-_Portrait_of_Leo_Tolstoy_(1887).jpg?width=300'/><li><h1>Anna Karenina</h1> 1877</h2></li><li><h1>Wojna i pok\u00f3j</h1> 1865</h2></li><h1>Boris Akunin</h1><h2>1956-05-20 </h2>\n",
        "  <img src='http://commons.wikimedia.org/wiki/Special:FilePath/Boris_Akunin_2012.jpg?width=300'/><li><h1>Azazel (powie\u015b\u0107)</h1> 1998</h2></li><li><h1>Dekorator</h1> 1998</h2></li><li><h1>Diamentowa karoca</h1> 2003</h2></li><li><h1>Gambit turecki</h1> 1998</h2></li><li><h1>Kochanek \u015amierci</h1> 2001</h2></li><li><h1>Kochanka \u015amierci</h1> 2001</h2></li><li><h1>Koronacja (powie\u015b\u0107)</h1> 1999</h2></li><li><h1>Lewiatan (powie\u015b\u0107)</h1> 1998</h2></li><li><h1>Radca stanu (powie\u015b\u0107)</h1> 1998</h2></li><li><h1>Walet pikowy (powie\u015b\u0107)</h1> 1998</h2></li><li><h1>\u015amier\u0107 Achillesa</h1> 1998</h2></li><h1>Janusz Zajdel</h1><h2>1938-08-15 1985-07-19</h2>\n",
        "  <img src='http://commons.wikimedia.org/wiki/Special:FilePath/Janusz_A_Zajdel.jpg?width=300'/><li><h1>Ca\u0142a prawda o planecie Ksi</h1> 1983</h2></li><h1>Jan Pawe\u0142 II</h1><h2>1920-05-18 2005-04-02</h2>\n",
        "  <img src='http://commons.wikimedia.org/wiki/Special:FilePath/John_Paul_II_Medal_of_Freedom_2004.jpg?width=300'/><li><h1>Dives in misericordia</h1> 1980</h2></li><li><h1>Slavorum apostoli</h1> 1985</h2></li><li><h1>Ut unum sint</h1> 1995</h2></li><li><h1>Veritatis splendor</h1> 1993</h2></li><h1>Isaac Asimov</h1><h2>1919-10-04 1992-04-06</h2>\n",
        "  <img src='http://commons.wikimedia.org/wiki/Special:FilePath/Isaac.Asimov01.jpg?width=300'/><li><h1>Druga Fundacja</h1> 1953</h2></li><li><h1>Fundacja (powie\u015b\u0107)</h1> 1951</h2></li><li><h1>Fundacja i Imperium</h1> 1952</h2></li><li><h1>Preludium Fundacji</h1> 1988</h2></li><h1>Ilja Ilf</h1><h2>1897-10-15 1937-04-13</h2>\n",
        "  <img src='http://commons.wikimedia.org/wiki/Special:FilePath/Ilya_Ilf.jpg?width=300'/><li><h1>Dwana\u015bcie krzese\u0142</h1> 1928</h2></li><h1>Jewgienij Pietrow (pisarz)</h1><h2>1903-12-13 1942-07-02</h2>\n",
        "  <img src='http://commons.wikimedia.org/wiki/Special:FilePath/Yevgeny_Petrov.jpg?width=300'/><h1>Gabriela Zapolska</h1><h2>1857-03-30 1921-12-17</h2>\n",
        "  <img src='http://commons.wikimedia.org/wiki/Special:FilePath/Gabriela_Zapolska.PNG?width=300'/><li><h1>Ich czworo</h1> 1907</h2></li><h1>Jeffery Deaver</h1><h2>1950-05-06 </h2>\n",
        "  <img src='http://commons.wikimedia.org/wiki/Special:FilePath/Jeffery_Deaver_October_2006.jpg?width=300'/><li><h1>Kamienna ma\u0142pa</h1> 2002</h2></li><li><h1>Mag (powie\u015b\u0107 J. Deavera)</h1> 2003</h2></li><h1>Terry Pratchett</h1><h2>1948-04-28 </h2>\n",
        "  <img src='http://commons.wikimedia.org/wiki/Special:FilePath/Terry_Pratchett,_September_2009_1.jpg?width=300'/><li><h1>Kot w stanie czystym</h1> 1989</h2></li><h1>Clive Staples Lewis</h1><h2>1898-11-29 1963-11-22</h2>\n",
        "  <img src='http://commons.wikimedia.org/wiki/Special:FilePath/Statue_of_C.S._Lewis,_Belfast.jpg?width=300'/><li><h1>Ko\u0144 i jego ch\u0142opiec</h1> 1954</h2></li><h1>Andrzej Pilipiuk</h1><h2>1974-03-20 </h2>\n",
        "  <img src='http://commons.wikimedia.org/wiki/Special:FilePath/Andrzej_Pilipiuk-Polcon2006.jpg?width=300'/><li><h1>Kuzynki</h1> 2003</h2></li><h1>Ursula K. Le Guin</h1><h2>1929-10-21 </h2>\n",
        "  <img src='http://commons.wikimedia.org/wiki/Special:FilePath/UrsulaLeGuin.01.jpg?width=300'/><li><h1>Lewa r\u0119ka ciemno\u015bci</h1> 1969</h2></li><li><h1>Czarnoksi\u0119\u017cnik z Archipelagu</h1> 1968</h2></li><h1>Iwan Turgieniew</h1><h2>1818-11-09 1883-09-03</h2>\n",
        "  <img src='http://commons.wikimedia.org/wiki/Special:FilePath/Turgenev_by_Repin.jpg?width=300'/><li><h1>Ojcowie i dzieci</h1> 0</h2></li><h1>George R. R. Martin</h1><h2>1948-09-20 </h2>\n",
        "  <img src='http://commons.wikimedia.org/wiki/Special:FilePath/George_R_R_Martin_2011_Shankbone.JPG?width=300'/><li><h1>Pie\u015b\u0144 Lodu i Ognia</h1> 1996</h2></li><h1>Ryszard Kapu\u015bci\u0144ski</h1><h2>1932-03-04 2007-01-23</h2>\n",
        "  <img src='http://commons.wikimedia.org/wiki/Special:FilePath/Ryszard_Kapuscinski_by_Kubik_17.05.1997_-_cropped.jpg?width=300'/><li><h1>Podr\u00f3\u017ce z Herodotem</h1> 2004</h2></li><h1>Lucy Maud Montgomery</h1><h2>1874-11-30 1942-04-24</h2>\n",
        "  <img src='http://commons.wikimedia.org/wiki/Special:FilePath/Lucy_Maud_Montgomery.JPG?width=300'/><li><h1>Rilla ze Z\u0142otego Brzegu</h1> 1921</h2></li><h1>Dorota Terakowska</h1><h2>1938-08-30 2004-01-04</h2>\n",
        "  <img src='http://commons.wikimedia.org/wiki/Special:FilePath/Dorota_Terakowska_grob.jpg?width=300'/><li><h1>Tam gdzie spadaj\u0105 anio\u0142y</h1> 1998</h2></li><h1>Alfred Szklarski</h1><h2>1912-01-21 1992-04-09</h2>\n",
        "  <img src='http://commons.wikimedia.org/wiki/Special:FilePath/Katowice_-_pomnik_Alfred_Szklarski.JPG?width=300'/><li><h1>Tomek u \u017ar\u00f3de\u0142 Amazonki</h1> 1967</h2></li><li><h1>Tomek w Gran Chaco</h1> 1987</h2></li><li><h1>Tomek w grobowcach faraon\u00f3w</h1> 1994</h2></li><h1>Adam Zelga</h1><h2>1953-03-11 </h2>\n",
        "  <img src=''/><h1>Rafa\u0142 A. Ziemkiewicz</h1><h2>1964-09-13 </h2>\n",
        "  <img src='http://commons.wikimedia.org/wiki/Special:FilePath/Rafa\u0142_Ziemkiewicz.jpg?width=300'/><li><h1>Walc stulecia</h1> 1998</h2></li><h1>Anne Rice</h1><h2>1941-10-04 </h2>\n",
        "  <img src='http://commons.wikimedia.org/wiki/Special:FilePath/Anne_Rice.jpg?width=300'/><li><h1>Wampir Lestat</h1> 1985</h2></li><h1>Aleksander Majkowski</h1><h2>1876-07-17 1938-02-10</h2>\n",
        "  <img src='http://commons.wikimedia.org/wiki/Special:FilePath/POL_Polonia_Restituta_Oficerski_BAR.svg?width=300'/><li><h1>\u017bycie i przygody Remusa</h1> 1938</h2></li><h1>Ian Fleming</h1><h2>1908-05-28 1964-08-12</h2>\n",
        "  <img src='http://commons.wikimedia.org/wiki/Special:FilePath/For_Your_Eyes_Only.jpg?width=300'/><li><h1>Casino Royale (powie\u015b\u0107)</h1> 1953</h2></li><h1>Gene Wolfe</h1><h2>1931-05-07 </h2>\n",
        "  <img src='http://commons.wikimedia.org/wiki/Special:FilePath/Gene_Wolfe,_2005.png?width=300'/><li><h1>Cie\u0144 kata</h1> 1980</h2></li><h1>Paulo Coelho</h1><h2>1947-08-24 </h2>\n",
        "  <img src='http://commons.wikimedia.org/wiki/Special:FilePath/Paulo_Coelho_nrkbeta.jpg?width=300'/><li><h1>Czarownica z Portobello</h1> 2006</h2></li><h1>Tom Clancy</h1><h2>1947-04-12 2013-10-01</h2>\n",
        "  <img src='http://commons.wikimedia.org/wiki/Special:FilePath/Tom_Clancy_at_Burns_Library_cropped.jpg?width=300'/><li><h1>Czas patriot\u00f3w (powie\u015b\u0107)</h1> 1987</h2></li>"
       ],
       "metadata": {},
       "output_type": "pyout",
       "prompt_number": 52,
       "text": [
        "\"<h1>Adam Mickiewicz</h1><h2> </h2>\\n  <img src=''/><li><h1>Ksi\u0119gi narodu polskiego i pielgrzymstwa polskiego</h1> 1832</h2></li><h1>Orson Scott Card</h1><h2>1951-08-24 </h2>\\n  <img src='http://commons.wikimedia.org/wiki/Special:FilePath/Orson_Scott_Card_at_BYU_Symposium_20080216_closeup.jpg?width=300'/><li><h1>V\u00e9gj\u00e1t\u00e9k (reg\u00e9ny)</h1> </h2></li><h1>Andrzej Sapkowski</h1><h2>1948-06-21 </h2>\\n  <img src='http://commons.wikimedia.org/wiki/Special:FilePath/Sapkowski.jpg?width=300'/><li><h1>Pani Jeziora (powie\u015b\u0107)</h1> 1999</h2></li><h1>Jack London</h1><h2>1876-01-12 1916-11-22</h2>\\n  <img src='http://commons.wikimedia.org/wiki/Special:FilePath/JackLondon02.jpeg?width=300'/><li><h1>Bellew Zawierucha</h1> 1912</h2></li><h1>Henning Mankell</h1><h2>1948-02-03 </h2>\\n  <img src='http://commons.wikimedia.org/wiki/Special:FilePath/Henning_Mankell_3_2011_Shankbone.jpg?width=300'/><li><h1>Fa\u0142szywy trop (powie\u015b\u0107)</h1> 1995</h2></li><h1>Stanis\u0142aw Lem</h1><h2>1921-09-12 2006-03-27</h2>\\n  <img src='http://commons.wikimedia.org/wiki/Special:FilePath/Stanislaw_Lem_2.jpg?width=300'/><li><h1>Bajki robot\u00f3w</h1> 1964</h2></li><li><h1>Solaris (powie\u015b\u0107)</h1> 1961</h2></li><li><h1>Bezsenno\u015b\u0107 (zbi\u00f3r opowiada\u0144)</h1> 1971</h2></li><li><h1>G\u0142os Pana</h1> 1968</h2></li><li><h1>Inwazja z Aldebarana (zbi\u00f3r opowiada\u0144)</h1> 1959</h2></li><li><h1>Katar (powie\u015b\u0107)</h1> 1976</h2></li><li><h1>Ksi\u0119ga robot\u00f3w</h1> 1961</h2></li><li><h1>Maska (zbi\u00f3r dzie\u0142)</h1> 1976</h2></li><li><h1>Niezwyci\u0119\u017cony i inne opowiadania</h1> 1964</h2></li><li><h1>Noc ksi\u0119\u017cycowa</h1> 1963</h2></li><li><h1>Pami\u0119tnik znaleziony w wannie</h1> 1961</h2></li><li><h1>Polowanie (zbi\u00f3r opowiada\u0144)</h1> 1965</h2></li><li><h1>Powt\u00f3rka (zbi\u00f3r dzie\u0142)</h1> 1979</h2></li><li><h1>Po\u017cytek ze smoka</h1> 1993</h2></li><li><h1>Rasa drapie\u017cc\u00f3w. Teksty ostatnie</h1> 2006</h2></li><li><h1>Sezam i inne opowiadania</h1> 1954</h2></li><li><h1>Summa technologiae</h1> 1964</h2></li><li><h1>Wizja lokalna (powie\u015b\u0107)</h1> 1982</h2></li><h1>Antoni Go\u0142ubiew</h1><h2>1907-02-25 1979-06-27</h2>\\n  <img src='http://commons.wikimedia.org/wiki/Special:FilePath/Antoni_Golubiew.jpg?width=300'/><li><h1>Boles\u0142aw Chrobry (powie\u015b\u0107)</h1> 1947</h2></li><h1>Miko\u0142aj Kopernik</h1><h2>1473-02-19 1543-05-24</h2>\\n  <img src='http://commons.wikimedia.org/wiki/Special:FilePath/Nikolaus_Kopernikus.jpg?width=300'/><li><h1>De revolutionibus orbium coelestium</h1> 1543</h2></li><h1>Maria Franciszka Koz\u0142owska</h1><h2>1862-05-27 </h2>\\n  <img src='http://commons.wikimedia.org/wiki/Special:FilePath/Mateczk_Koz\u0142owska.JPG?width=300'/><li><h1>Dzie\u0142o Wielkiego Mi\u0142osierdzia</h1> 1922</h2></li><h1>George Orwell</h1><h2>1903-06-25 1950-01-21</h2>\\n  <img src='http://commons.wikimedia.org/wiki/Special:FilePath/GeoreOrwell.jpg?width=300'/><li><h1>Folwark zwierz\u0119cy</h1> 1945</h2></li><li><h1>Droga na molo w Wigan</h1> 1937</h2></li><h1>William Szekspir</h1><h2>1564-04-23 1616-05-03</h2>\\n  <img src='http://commons.wikimedia.org/wiki/Special:FilePath/Shakespeare.jpg?width=300'/><li><h1>Hamlet</h1> </h2></li><li><h1>Romeo i Julia</h1> 1597</h2></li><li><h1>Sen nocy letniej</h1> 1600</h2></li><h1>J. K. Rowling</h1><h2>1965-07-31 </h2>\\n  <img src='http://commons.wikimedia.org/wiki/Special:FilePath/J._K._Rowling_2010.jpg?width=300'/><li><h1>Harry Potter</h1> 1997</h2></li><h1>John Ronald Reuel Tolkien</h1><h2>1892-01-03 1973-09-02</h2>\\n  <img src='http://commons.wikimedia.org/wiki/Special:FilePath/Tolkien_1916.jpg?width=300'/><li><h1>Hobbit, czyli tam i z powrotem</h1> 1937</h2></li><li><h1>Silmarillion</h1> 1977</h2></li><li><h1>W\u0142adca Pier\u015bcieni</h1> 1954</h2></li><h1>Aleksander Dumas (ojciec)</h1><h2>1802-07-24 1870-12-05</h2>\\n  <img src='http://commons.wikimedia.org/wiki/Special:FilePath/Dumas_by_Nadar,_1855.jpg?width=300'/><li><h1>Hrabia Monte Christo</h1> 1844</h2></li><h1>Tadeusz Do\u0142\u0119ga-Mostowicz</h1><h2>1898-08-10 1939-09-20</h2>\\n  <img src='http://commons.wikimedia.org/wiki/Special:FilePath/Tadeusz_Dolega-Mostowicz.jpg?width=300'/><li><h1>Kariera Nikodema Dyzmy</h1> 1932</h2></li><h1>Henryk Sienkiewicz</h1><h2>1846-05-05 1916-11-15</h2>\\n  <img src='http://commons.wikimedia.org/wiki/Special:FilePath/Henryk_Sienkiewicz.PNG?width=300'/><li><h1>Krzy\u017cacy (powie\u015b\u0107)</h1> 1900</h2></li><li><h1>Ogniem i mieczem</h1> 1884</h2></li><li><h1>Quo vadis</h1> 1896</h2></li><h1>Vladimir Nabokov</h1><h2>1899-04-22 1977-07-02</h2>\\n  <img src='http://commons.wikimedia.org/wiki/Special:FilePath/Monument_Nabokov_Montreux_23.12.2006.jpg?width=300'/><li><h1>Lolita</h1> 1955</h2></li><h1>Adolf Hitler</h1><h2>1889-04-20 1945-04-30</h2>\\n  <img src='http://commons.wikimedia.org/wiki/Special:FilePath/Hitler_portrait_crop.jpg?width=300'/><li><h1>Mein Kampf</h1> 1925</h2></li><h1>Eliza Orzeszkowa</h1><h2>1841-06-06 1910-05-18</h2>\\n  <img src='http://commons.wikimedia.org/wiki/Special:FilePath/Eliza_Orzeszkowa.PNG?width=300'/><li><h1>Nad Niemnem</h1> 1888</h2></li><h1>Christopher Tolkien</h1><h2>1924-11-21 </h2>\\n  <img src=''/><li><h1>Niedoko\u0144czone opowie\u015bci</h1> 1980</h2></li><h1>Benedykt Chmielowski</h1><h2>1700-03-20 1763-04-07</h2>\\n  <img src='http://commons.wikimedia.org/wiki/Special:FilePath/POL_COA_Na\u0142\u0119cz.svg?width=300'/><li><h1>Nowe Ateny</h1> 1745</h2></li><h1>Aldous Huxley</h1><h2>1894-07-26 1963-11-22</h2>\\n  <img src='http://commons.wikimedia.org/wiki/Special:FilePath/Aldous_Huxley.JPG?width=300'/><li><h1>Nowy wspania\u0142y \u015bwiat</h1> 1932</h2></li><h1>Honor\u00e9 de Balzac</h1><h2>1799-05-20 1850-08-18</h2>\\n  <img src='http://commons.wikimedia.org/wiki/Special:FilePath/HBalzac.jpg?width=300'/><li><h1>Ojciec Goriot</h1> 1835</h2></li><h1>Franz Kafka</h1><h2>1883-07-03 1924-06-03</h2>\\n  <img src='http://commons.wikimedia.org/wiki/Special:FilePath/Kafka1906.jpg?width=300'/><li><h1>Proces (powie\u015b\u0107)</h1> 1925</h2></li><h1>Jan Kochanowski</h1><h2> 1584-08-22</h2>\\n  <img src='http://commons.wikimedia.org/wiki/Special:FilePath/Jan_Kochanowski.png?width=300'/><li><h1>Psa\u0142terz Dawid\u00f3w</h1> 1579</h2></li><h1>Howard Phillips Lovecraft</h1><h2>1890-08-20 1937-03-15</h2>\\n  <img src='http://commons.wikimedia.org/wiki/Special:FilePath/Howard_Phillips_Lovecraft_in_1915.jpg?width=300'/><li><h1>Zew Cthulhu (opowiadanie)</h1> 1928</h2></li><h1>Karol Olgierd Borchardt</h1><h2>1905-03-25 1986-05-20</h2>\\n  <img src='http://commons.wikimedia.org/wiki/Special:FilePath/Karol_Olgierd_Borchardt's_house_in_Gdynia.jpg?width=300'/><li><h1>Znaczy Kapitan</h1> 1960</h2></li><h1>Lew To\u0142stoj</h1><h2>1828-09-09 1910-11-20</h2>\\n  <img src='http://commons.wikimedia.org/wiki/Special:FilePath/Ilya_Efimovich_Repin_(1844-1930)_-_Portrait_of_Leo_Tolstoy_(1887).jpg?width=300'/><li><h1>Anna Karenina</h1> 1877</h2></li><li><h1>Wojna i pok\u00f3j</h1> 1865</h2></li><h1>Boris Akunin</h1><h2>1956-05-20 </h2>\\n  <img src='http://commons.wikimedia.org/wiki/Special:FilePath/Boris_Akunin_2012.jpg?width=300'/><li><h1>Azazel (powie\u015b\u0107)</h1> 1998</h2></li><li><h1>Dekorator</h1> 1998</h2></li><li><h1>Diamentowa karoca</h1> 2003</h2></li><li><h1>Gambit turecki</h1> 1998</h2></li><li><h1>Kochanek \u015amierci</h1> 2001</h2></li><li><h1>Kochanka \u015amierci</h1> 2001</h2></li><li><h1>Koronacja (powie\u015b\u0107)</h1> 1999</h2></li><li><h1>Lewiatan (powie\u015b\u0107)</h1> 1998</h2></li><li><h1>Radca stanu (powie\u015b\u0107)</h1> 1998</h2></li><li><h1>Walet pikowy (powie\u015b\u0107)</h1> 1998</h2></li><li><h1>\u015amier\u0107 Achillesa</h1> 1998</h2></li><h1>Janusz Zajdel</h1><h2>1938-08-15 1985-07-19</h2>\\n  <img src='http://commons.wikimedia.org/wiki/Special:FilePath/Janusz_A_Zajdel.jpg?width=300'/><li><h1>Ca\u0142a prawda o planecie Ksi</h1> 1983</h2></li><h1>Jan Pawe\u0142 II</h1><h2>1920-05-18 2005-04-02</h2>\\n  <img src='http://commons.wikimedia.org/wiki/Special:FilePath/John_Paul_II_Medal_of_Freedom_2004.jpg?width=300'/><li><h1>Dives in misericordia</h1> 1980</h2></li><li><h1>Slavorum apostoli</h1> 1985</h2></li><li><h1>Ut unum sint</h1> 1995</h2></li><li><h1>Veritatis splendor</h1> 1993</h2></li><h1>Isaac Asimov</h1><h2>1919-10-04 1992-04-06</h2>\\n  <img src='http://commons.wikimedia.org/wiki/Special:FilePath/Isaac.Asimov01.jpg?width=300'/><li><h1>Druga Fundacja</h1> 1953</h2></li><li><h1>Fundacja (powie\u015b\u0107)</h1> 1951</h2></li><li><h1>Fundacja i Imperium</h1> 1952</h2></li><li><h1>Preludium Fundacji</h1> 1988</h2></li><h1>Ilja Ilf</h1><h2>1897-10-15 1937-04-13</h2>\\n  <img src='http://commons.wikimedia.org/wiki/Special:FilePath/Ilya_Ilf.jpg?width=300'/><li><h1>Dwana\u015bcie krzese\u0142</h1> 1928</h2></li><h1>Jewgienij Pietrow (pisarz)</h1><h2>1903-12-13 1942-07-02</h2>\\n  <img src='http://commons.wikimedia.org/wiki/Special:FilePath/Yevgeny_Petrov.jpg?width=300'/><h1>Gabriela Zapolska</h1><h2>1857-03-30 1921-12-17</h2>\\n  <img src='http://commons.wikimedia.org/wiki/Special:FilePath/Gabriela_Zapolska.PNG?width=300'/><li><h1>Ich czworo</h1> 1907</h2></li><h1>Jeffery Deaver</h1><h2>1950-05-06 </h2>\\n  <img src='http://commons.wikimedia.org/wiki/Special:FilePath/Jeffery_Deaver_October_2006.jpg?width=300'/><li><h1>Kamienna ma\u0142pa</h1> 2002</h2></li><li><h1>Mag (powie\u015b\u0107 J. Deavera)</h1> 2003</h2></li><h1>Terry Pratchett</h1><h2>1948-04-28 </h2>\\n  <img src='http://commons.wikimedia.org/wiki/Special:FilePath/Terry_Pratchett,_September_2009_1.jpg?width=300'/><li><h1>Kot w stanie czystym</h1> 1989</h2></li><h1>Clive Staples Lewis</h1><h2>1898-11-29 1963-11-22</h2>\\n  <img src='http://commons.wikimedia.org/wiki/Special:FilePath/Statue_of_C.S._Lewis,_Belfast.jpg?width=300'/><li><h1>Ko\u0144 i jego ch\u0142opiec</h1> 1954</h2></li><h1>Andrzej Pilipiuk</h1><h2>1974-03-20 </h2>\\n  <img src='http://commons.wikimedia.org/wiki/Special:FilePath/Andrzej_Pilipiuk-Polcon2006.jpg?width=300'/><li><h1>Kuzynki</h1> 2003</h2></li><h1>Ursula K. Le Guin</h1><h2>1929-10-21 </h2>\\n  <img src='http://commons.wikimedia.org/wiki/Special:FilePath/UrsulaLeGuin.01.jpg?width=300'/><li><h1>Lewa r\u0119ka ciemno\u015bci</h1> 1969</h2></li><li><h1>Czarnoksi\u0119\u017cnik z Archipelagu</h1> 1968</h2></li><h1>Iwan Turgieniew</h1><h2>1818-11-09 1883-09-03</h2>\\n  <img src='http://commons.wikimedia.org/wiki/Special:FilePath/Turgenev_by_Repin.jpg?width=300'/><li><h1>Ojcowie i dzieci</h1> 0</h2></li><h1>George R. R. Martin</h1><h2>1948-09-20 </h2>\\n  <img src='http://commons.wikimedia.org/wiki/Special:FilePath/George_R_R_Martin_2011_Shankbone.JPG?width=300'/><li><h1>Pie\u015b\u0144 Lodu i Ognia</h1> 1996</h2></li><h1>Ryszard Kapu\u015bci\u0144ski</h1><h2>1932-03-04 2007-01-23</h2>\\n  <img src='http://commons.wikimedia.org/wiki/Special:FilePath/Ryszard_Kapuscinski_by_Kubik_17.05.1997_-_cropped.jpg?width=300'/><li><h1>Podr\u00f3\u017ce z Herodotem</h1> 2004</h2></li><h1>Lucy Maud Montgomery</h1><h2>1874-11-30 1942-04-24</h2>\\n  <img src='http://commons.wikimedia.org/wiki/Special:FilePath/Lucy_Maud_Montgomery.JPG?width=300'/><li><h1>Rilla ze Z\u0142otego Brzegu</h1> 1921</h2></li><h1>Dorota Terakowska</h1><h2>1938-08-30 2004-01-04</h2>\\n  <img src='http://commons.wikimedia.org/wiki/Special:FilePath/Dorota_Terakowska_grob.jpg?width=300'/><li><h1>Tam gdzie spadaj\u0105 anio\u0142y</h1> 1998</h2></li><h1>Alfred Szklarski</h1><h2>1912-01-21 1992-04-09</h2>\\n  <img src='http://commons.wikimedia.org/wiki/Special:FilePath/Katowice_-_pomnik_Alfred_Szklarski.JPG?width=300'/><li><h1>Tomek u \u017ar\u00f3de\u0142 Amazonki</h1> 1967</h2></li><li><h1>Tomek w Gran Chaco</h1> 1987</h2></li><li><h1>Tomek w grobowcach faraon\u00f3w</h1> 1994</h2></li><h1>Adam Zelga</h1><h2>1953-03-11 </h2>\\n  <img src=''/><h1>Rafa\u0142 A. Ziemkiewicz</h1><h2>1964-09-13 </h2>\\n  <img src='http://commons.wikimedia.org/wiki/Special:FilePath/Rafa\u0142_Ziemkiewicz.jpg?width=300'/><li><h1>Walc stulecia</h1> 1998</h2></li><h1>Anne Rice</h1><h2>1941-10-04 </h2>\\n  <img src='http://commons.wikimedia.org/wiki/Special:FilePath/Anne_Rice.jpg?width=300'/><li><h1>Wampir Lestat</h1> 1985</h2></li><h1>Aleksander Majkowski</h1><h2>1876-07-17 1938-02-10</h2>\\n  <img src='http://commons.wikimedia.org/wiki/Special:FilePath/POL_Polonia_Restituta_Oficerski_BAR.svg?width=300'/><li><h1>\u017bycie i przygody Remusa</h1> 1938</h2></li><h1>Ian Fleming</h1><h2>1908-05-28 1964-08-12</h2>\\n  <img src='http://commons.wikimedia.org/wiki/Special:FilePath/For_Your_Eyes_Only.jpg?width=300'/><li><h1>Casino Royale (powie\u015b\u0107)</h1> 1953</h2></li><h1>Gene Wolfe</h1><h2>1931-05-07 </h2>\\n  <img src='http://commons.wikimedia.org/wiki/Special:FilePath/Gene_Wolfe,_2005.png?width=300'/><li><h1>Cie\u0144 kata</h1> 1980</h2></li><h1>Paulo Coelho</h1><h2>1947-08-24 </h2>\\n  <img src='http://commons.wikimedia.org/wiki/Special:FilePath/Paulo_Coelho_nrkbeta.jpg?width=300'/><li><h1>Czarownica z Portobello</h1> 2006</h2></li><h1>Tom Clancy</h1><h2>1947-04-12 2013-10-01</h2>\\n  <img src='http://commons.wikimedia.org/wiki/Special:FilePath/Tom_Clancy_at_Burns_Library_cropped.jpg?width=300'/><li><h1>Czas patriot\u00f3w (powie\u015b\u0107)</h1> 1987</h2></li>\""
       ]
      }
     ],
     "prompt_number": 52
    }
   ],
   "metadata": {}
  }
 ]
}